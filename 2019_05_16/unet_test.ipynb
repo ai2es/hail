{
 "cells": [
  {
   "cell_type": "code",
   "execution_count": 36,
   "id": "e4976561-228f-482a-a884-bfacf9e5c780",
   "metadata": {},
   "outputs": [],
   "source": [
    "from keras_unet_collection import models, losses\n",
    "import tensorflow as tf\n",
    "from tensorflow import keras\n",
    "import xarray as xr\n",
    "from tensorflow.keras.optimizers import Adam\n",
    "from tensorflow.keras.utils import to_categorical\n",
    "from tensorflow.keras.callbacks import EarlyStopping\n",
    "import numpy as np\n",
    "import matplotlib.pyplot as plt"
   ]
  },
  {
   "cell_type": "markdown",
   "id": "fe2819c4-ca22-4dc8-83ba-a01eaa384b24",
   "metadata": {},
   "source": [
    "## Predict the size in mm of the 90th percentile of hail at each grid point"
   ]
  },
  {
   "cell_type": "markdown",
   "id": "1ad17951-e842-45af-993c-a1e2063c8740",
   "metadata": {},
   "source": [
    "This is a bounded regression problem, where size >= 0\n",
    "So we should probably use ReLU or leaky ReLU for the final layer, and from Ryan's short course, he recommends ReLU or leaky ReLU for the hidden layers\n",
    "\n",
    "I propose leaky ReLU for the hidden layers, so as to not reduce too much complexity by \"killing off\" neurons, and then ReLU for the output layer because you can't have negative-sized hail."
   ]
  },
  {
   "cell_type": "code",
   "execution_count": 37,
   "id": "5bbd3d45-81a5-4727-8a46-1f0bc4b725ec",
   "metadata": {},
   "outputs": [],
   "source": [
    "#read in the data:\n",
    "input_ds = xr.open_dataset(\"unet_test_data/HRRR_allinput_0000_2200.nc\")\n",
    "output_ds = xr.open_dataset(\"unet_test_data/HRRR_hail_0100_2300.nc\")"
   ]
  },
  {
   "cell_type": "code",
   "execution_count": 38,
   "id": "05f950b1-3cc1-478a-96cf-8ab0ed9b1b61",
   "metadata": {},
   "outputs": [
    {
     "data": {
      "text/html": [
       "<div><svg style=\"position: absolute; width: 0; height: 0; overflow: hidden\">\n",
       "<defs>\n",
       "<symbol id=\"icon-database\" viewBox=\"0 0 32 32\">\n",
       "<path d=\"M16 0c-8.837 0-16 2.239-16 5v4c0 2.761 7.163 5 16 5s16-2.239 16-5v-4c0-2.761-7.163-5-16-5z\"></path>\n",
       "<path d=\"M16 17c-8.837 0-16-2.239-16-5v6c0 2.761 7.163 5 16 5s16-2.239 16-5v-6c0 2.761-7.163 5-16 5z\"></path>\n",
       "<path d=\"M16 26c-8.837 0-16-2.239-16-5v6c0 2.761 7.163 5 16 5s16-2.239 16-5v-6c0 2.761-7.163 5-16 5z\"></path>\n",
       "</symbol>\n",
       "<symbol id=\"icon-file-text2\" viewBox=\"0 0 32 32\">\n",
       "<path d=\"M28.681 7.159c-0.694-0.947-1.662-2.053-2.724-3.116s-2.169-2.030-3.116-2.724c-1.612-1.182-2.393-1.319-2.841-1.319h-15.5c-1.378 0-2.5 1.121-2.5 2.5v27c0 1.378 1.122 2.5 2.5 2.5h23c1.378 0 2.5-1.122 2.5-2.5v-19.5c0-0.448-0.137-1.23-1.319-2.841zM24.543 5.457c0.959 0.959 1.712 1.825 2.268 2.543h-4.811v-4.811c0.718 0.556 1.584 1.309 2.543 2.268zM28 29.5c0 0.271-0.229 0.5-0.5 0.5h-23c-0.271 0-0.5-0.229-0.5-0.5v-27c0-0.271 0.229-0.5 0.5-0.5 0 0 15.499-0 15.5 0v7c0 0.552 0.448 1 1 1h7v19.5z\"></path>\n",
       "<path d=\"M23 26h-14c-0.552 0-1-0.448-1-1s0.448-1 1-1h14c0.552 0 1 0.448 1 1s-0.448 1-1 1z\"></path>\n",
       "<path d=\"M23 22h-14c-0.552 0-1-0.448-1-1s0.448-1 1-1h14c0.552 0 1 0.448 1 1s-0.448 1-1 1z\"></path>\n",
       "<path d=\"M23 18h-14c-0.552 0-1-0.448-1-1s0.448-1 1-1h14c0.552 0 1 0.448 1 1s-0.448 1-1 1z\"></path>\n",
       "</symbol>\n",
       "</defs>\n",
       "</svg>\n",
       "<style>/* CSS stylesheet for displaying xarray objects in jupyterlab.\n",
       " *\n",
       " */\n",
       "\n",
       ":root {\n",
       "  --xr-font-color0: var(--jp-content-font-color0, rgba(0, 0, 0, 1));\n",
       "  --xr-font-color2: var(--jp-content-font-color2, rgba(0, 0, 0, 0.54));\n",
       "  --xr-font-color3: var(--jp-content-font-color3, rgba(0, 0, 0, 0.38));\n",
       "  --xr-border-color: var(--jp-border-color2, #e0e0e0);\n",
       "  --xr-disabled-color: var(--jp-layout-color3, #bdbdbd);\n",
       "  --xr-background-color: var(--jp-layout-color0, white);\n",
       "  --xr-background-color-row-even: var(--jp-layout-color1, white);\n",
       "  --xr-background-color-row-odd: var(--jp-layout-color2, #eeeeee);\n",
       "}\n",
       "\n",
       "html[theme=dark],\n",
       "body.vscode-dark {\n",
       "  --xr-font-color0: rgba(255, 255, 255, 1);\n",
       "  --xr-font-color2: rgba(255, 255, 255, 0.54);\n",
       "  --xr-font-color3: rgba(255, 255, 255, 0.38);\n",
       "  --xr-border-color: #1F1F1F;\n",
       "  --xr-disabled-color: #515151;\n",
       "  --xr-background-color: #111111;\n",
       "  --xr-background-color-row-even: #111111;\n",
       "  --xr-background-color-row-odd: #313131;\n",
       "}\n",
       "\n",
       ".xr-wrap {\n",
       "  display: block;\n",
       "  min-width: 300px;\n",
       "  max-width: 700px;\n",
       "}\n",
       "\n",
       ".xr-text-repr-fallback {\n",
       "  /* fallback to plain text repr when CSS is not injected (untrusted notebook) */\n",
       "  display: none;\n",
       "}\n",
       "\n",
       ".xr-header {\n",
       "  padding-top: 6px;\n",
       "  padding-bottom: 6px;\n",
       "  margin-bottom: 4px;\n",
       "  border-bottom: solid 1px var(--xr-border-color);\n",
       "}\n",
       "\n",
       ".xr-header > div,\n",
       ".xr-header > ul {\n",
       "  display: inline;\n",
       "  margin-top: 0;\n",
       "  margin-bottom: 0;\n",
       "}\n",
       "\n",
       ".xr-obj-type,\n",
       ".xr-array-name {\n",
       "  margin-left: 2px;\n",
       "  margin-right: 10px;\n",
       "}\n",
       "\n",
       ".xr-obj-type {\n",
       "  color: var(--xr-font-color2);\n",
       "}\n",
       "\n",
       ".xr-sections {\n",
       "  padding-left: 0 !important;\n",
       "  display: grid;\n",
       "  grid-template-columns: 150px auto auto 1fr 20px 20px;\n",
       "}\n",
       "\n",
       ".xr-section-item {\n",
       "  display: contents;\n",
       "}\n",
       "\n",
       ".xr-section-item input {\n",
       "  display: none;\n",
       "}\n",
       "\n",
       ".xr-section-item input + label {\n",
       "  color: var(--xr-disabled-color);\n",
       "}\n",
       "\n",
       ".xr-section-item input:enabled + label {\n",
       "  cursor: pointer;\n",
       "  color: var(--xr-font-color2);\n",
       "}\n",
       "\n",
       ".xr-section-item input:enabled + label:hover {\n",
       "  color: var(--xr-font-color0);\n",
       "}\n",
       "\n",
       ".xr-section-summary {\n",
       "  grid-column: 1;\n",
       "  color: var(--xr-font-color2);\n",
       "  font-weight: 500;\n",
       "}\n",
       "\n",
       ".xr-section-summary > span {\n",
       "  display: inline-block;\n",
       "  padding-left: 0.5em;\n",
       "}\n",
       "\n",
       ".xr-section-summary-in:disabled + label {\n",
       "  color: var(--xr-font-color2);\n",
       "}\n",
       "\n",
       ".xr-section-summary-in + label:before {\n",
       "  display: inline-block;\n",
       "  content: '►';\n",
       "  font-size: 11px;\n",
       "  width: 15px;\n",
       "  text-align: center;\n",
       "}\n",
       "\n",
       ".xr-section-summary-in:disabled + label:before {\n",
       "  color: var(--xr-disabled-color);\n",
       "}\n",
       "\n",
       ".xr-section-summary-in:checked + label:before {\n",
       "  content: '▼';\n",
       "}\n",
       "\n",
       ".xr-section-summary-in:checked + label > span {\n",
       "  display: none;\n",
       "}\n",
       "\n",
       ".xr-section-summary,\n",
       ".xr-section-inline-details {\n",
       "  padding-top: 4px;\n",
       "  padding-bottom: 4px;\n",
       "}\n",
       "\n",
       ".xr-section-inline-details {\n",
       "  grid-column: 2 / -1;\n",
       "}\n",
       "\n",
       ".xr-section-details {\n",
       "  display: none;\n",
       "  grid-column: 1 / -1;\n",
       "  margin-bottom: 5px;\n",
       "}\n",
       "\n",
       ".xr-section-summary-in:checked ~ .xr-section-details {\n",
       "  display: contents;\n",
       "}\n",
       "\n",
       ".xr-array-wrap {\n",
       "  grid-column: 1 / -1;\n",
       "  display: grid;\n",
       "  grid-template-columns: 20px auto;\n",
       "}\n",
       "\n",
       ".xr-array-wrap > label {\n",
       "  grid-column: 1;\n",
       "  vertical-align: top;\n",
       "}\n",
       "\n",
       ".xr-preview {\n",
       "  color: var(--xr-font-color3);\n",
       "}\n",
       "\n",
       ".xr-array-preview,\n",
       ".xr-array-data {\n",
       "  padding: 0 5px !important;\n",
       "  grid-column: 2;\n",
       "}\n",
       "\n",
       ".xr-array-data,\n",
       ".xr-array-in:checked ~ .xr-array-preview {\n",
       "  display: none;\n",
       "}\n",
       "\n",
       ".xr-array-in:checked ~ .xr-array-data,\n",
       ".xr-array-preview {\n",
       "  display: inline-block;\n",
       "}\n",
       "\n",
       ".xr-dim-list {\n",
       "  display: inline-block !important;\n",
       "  list-style: none;\n",
       "  padding: 0 !important;\n",
       "  margin: 0;\n",
       "}\n",
       "\n",
       ".xr-dim-list li {\n",
       "  display: inline-block;\n",
       "  padding: 0;\n",
       "  margin: 0;\n",
       "}\n",
       "\n",
       ".xr-dim-list:before {\n",
       "  content: '(';\n",
       "}\n",
       "\n",
       ".xr-dim-list:after {\n",
       "  content: ')';\n",
       "}\n",
       "\n",
       ".xr-dim-list li:not(:last-child):after {\n",
       "  content: ',';\n",
       "  padding-right: 5px;\n",
       "}\n",
       "\n",
       ".xr-has-index {\n",
       "  font-weight: bold;\n",
       "}\n",
       "\n",
       ".xr-var-list,\n",
       ".xr-var-item {\n",
       "  display: contents;\n",
       "}\n",
       "\n",
       ".xr-var-item > div,\n",
       ".xr-var-item label,\n",
       ".xr-var-item > .xr-var-name span {\n",
       "  background-color: var(--xr-background-color-row-even);\n",
       "  margin-bottom: 0;\n",
       "}\n",
       "\n",
       ".xr-var-item > .xr-var-name:hover span {\n",
       "  padding-right: 5px;\n",
       "}\n",
       "\n",
       ".xr-var-list > li:nth-child(odd) > div,\n",
       ".xr-var-list > li:nth-child(odd) > label,\n",
       ".xr-var-list > li:nth-child(odd) > .xr-var-name span {\n",
       "  background-color: var(--xr-background-color-row-odd);\n",
       "}\n",
       "\n",
       ".xr-var-name {\n",
       "  grid-column: 1;\n",
       "}\n",
       "\n",
       ".xr-var-dims {\n",
       "  grid-column: 2;\n",
       "}\n",
       "\n",
       ".xr-var-dtype {\n",
       "  grid-column: 3;\n",
       "  text-align: right;\n",
       "  color: var(--xr-font-color2);\n",
       "}\n",
       "\n",
       ".xr-var-preview {\n",
       "  grid-column: 4;\n",
       "}\n",
       "\n",
       ".xr-var-name,\n",
       ".xr-var-dims,\n",
       ".xr-var-dtype,\n",
       ".xr-preview,\n",
       ".xr-attrs dt {\n",
       "  white-space: nowrap;\n",
       "  overflow: hidden;\n",
       "  text-overflow: ellipsis;\n",
       "  padding-right: 10px;\n",
       "}\n",
       "\n",
       ".xr-var-name:hover,\n",
       ".xr-var-dims:hover,\n",
       ".xr-var-dtype:hover,\n",
       ".xr-attrs dt:hover {\n",
       "  overflow: visible;\n",
       "  width: auto;\n",
       "  z-index: 1;\n",
       "}\n",
       "\n",
       ".xr-var-attrs,\n",
       ".xr-var-data {\n",
       "  display: none;\n",
       "  background-color: var(--xr-background-color) !important;\n",
       "  padding-bottom: 5px !important;\n",
       "}\n",
       "\n",
       ".xr-var-attrs-in:checked ~ .xr-var-attrs,\n",
       ".xr-var-data-in:checked ~ .xr-var-data {\n",
       "  display: block;\n",
       "}\n",
       "\n",
       ".xr-var-data > table {\n",
       "  float: right;\n",
       "}\n",
       "\n",
       ".xr-var-name span,\n",
       ".xr-var-data,\n",
       ".xr-attrs {\n",
       "  padding-left: 25px !important;\n",
       "}\n",
       "\n",
       ".xr-attrs,\n",
       ".xr-var-attrs,\n",
       ".xr-var-data {\n",
       "  grid-column: 1 / -1;\n",
       "}\n",
       "\n",
       "dl.xr-attrs {\n",
       "  padding: 0;\n",
       "  margin: 0;\n",
       "  display: grid;\n",
       "  grid-template-columns: 125px auto;\n",
       "}\n",
       "\n",
       ".xr-attrs dt,\n",
       ".xr-attrs dd {\n",
       "  padding: 0;\n",
       "  margin: 0;\n",
       "  float: left;\n",
       "  padding-right: 10px;\n",
       "  width: auto;\n",
       "}\n",
       "\n",
       ".xr-attrs dt {\n",
       "  font-weight: normal;\n",
       "  grid-column: 1;\n",
       "}\n",
       "\n",
       ".xr-attrs dt:hover span {\n",
       "  display: inline-block;\n",
       "  background: var(--xr-background-color);\n",
       "  padding-right: 10px;\n",
       "}\n",
       "\n",
       ".xr-attrs dd {\n",
       "  grid-column: 2;\n",
       "  white-space: pre-wrap;\n",
       "  word-break: break-all;\n",
       "}\n",
       "\n",
       ".xr-icon-database,\n",
       ".xr-icon-file-text2 {\n",
       "  display: inline-block;\n",
       "  vertical-align: middle;\n",
       "  width: 1em;\n",
       "  height: 1.5em !important;\n",
       "  stroke-width: 0;\n",
       "  stroke: currentColor;\n",
       "  fill: currentColor;\n",
       "}\n",
       "</style><pre class='xr-text-repr-fallback'>&lt;xarray.Dataset&gt;\n",
       "Dimensions:     (time: 23, x: 1799, y: 1059)\n",
       "Coordinates:\n",
       "  * time        (time) datetime64[ns] 2019-05-16 ... 2019-05-16T22:00:00\n",
       "    step        timedelta64[ns] 00:00:00\n",
       "    atmosphere  float64 0.0\n",
       "    latitude    (y, x) float64 ...\n",
       "    longitude   (y, x) float64 ...\n",
       "    valid_time  (time) datetime64[ns] 2019-05-16 ... 2019-05-16T22:00:00\n",
       "    surface     float64 0.0\n",
       "Dimensions without coordinates: x, y\n",
       "Data variables:\n",
       "    hail        (time, y, x) float32 ...\n",
       "    refc        (time, y, x) float32 ...\n",
       "    cape        (time, y, x) float32 ...</pre><div class='xr-wrap' hidden><div class='xr-header'><div class='xr-obj-type'>xarray.Dataset</div></div><ul class='xr-sections'><li class='xr-section-item'><input id='section-c8530e3c-3c34-44e6-9dc4-da3ebff29ef3' class='xr-section-summary-in' type='checkbox' disabled ><label for='section-c8530e3c-3c34-44e6-9dc4-da3ebff29ef3' class='xr-section-summary'  title='Expand/collapse section'>Dimensions:</label><div class='xr-section-inline-details'><ul class='xr-dim-list'><li><span class='xr-has-index'>time</span>: 23</li><li><span>x</span>: 1799</li><li><span>y</span>: 1059</li></ul></div><div class='xr-section-details'></div></li><li class='xr-section-item'><input id='section-f142355c-ad19-4797-a7f5-e5096bbd1fde' class='xr-section-summary-in' type='checkbox'  checked><label for='section-f142355c-ad19-4797-a7f5-e5096bbd1fde' class='xr-section-summary' >Coordinates: <span>(7)</span></label><div class='xr-section-inline-details'></div><div class='xr-section-details'><ul class='xr-var-list'><li class='xr-var-item'><div class='xr-var-name'><span class='xr-has-index'>time</span></div><div class='xr-var-dims'>(time)</div><div class='xr-var-dtype'>datetime64[ns]</div><div class='xr-var-preview xr-preview'>2019-05-16 ... 2019-05-16T22:00:00</div><input id='attrs-7b398065-bfde-405d-b740-07378b712100' class='xr-var-attrs-in' type='checkbox' ><label for='attrs-7b398065-bfde-405d-b740-07378b712100' title='Show/Hide attributes'><svg class='icon xr-icon-file-text2'><use xlink:href='#icon-file-text2'></use></svg></label><input id='data-a91ecc73-7ca0-422a-93b5-5a40ce9ff6a4' class='xr-var-data-in' type='checkbox'><label for='data-a91ecc73-7ca0-422a-93b5-5a40ce9ff6a4' title='Show/Hide data repr'><svg class='icon xr-icon-database'><use xlink:href='#icon-database'></use></svg></label><div class='xr-var-attrs'><dl class='xr-attrs'><dt><span>long_name :</span></dt><dd>initial time of forecast</dd><dt><span>standard_name :</span></dt><dd>forecast_reference_time</dd></dl></div><div class='xr-var-data'><pre>array([&#x27;2019-05-16T00:00:00.000000000&#x27;, &#x27;2019-05-16T01:00:00.000000000&#x27;,\n",
       "       &#x27;2019-05-16T02:00:00.000000000&#x27;, &#x27;2019-05-16T03:00:00.000000000&#x27;,\n",
       "       &#x27;2019-05-16T04:00:00.000000000&#x27;, &#x27;2019-05-16T05:00:00.000000000&#x27;,\n",
       "       &#x27;2019-05-16T06:00:00.000000000&#x27;, &#x27;2019-05-16T07:00:00.000000000&#x27;,\n",
       "       &#x27;2019-05-16T08:00:00.000000000&#x27;, &#x27;2019-05-16T09:00:00.000000000&#x27;,\n",
       "       &#x27;2019-05-16T10:00:00.000000000&#x27;, &#x27;2019-05-16T11:00:00.000000000&#x27;,\n",
       "       &#x27;2019-05-16T12:00:00.000000000&#x27;, &#x27;2019-05-16T13:00:00.000000000&#x27;,\n",
       "       &#x27;2019-05-16T14:00:00.000000000&#x27;, &#x27;2019-05-16T15:00:00.000000000&#x27;,\n",
       "       &#x27;2019-05-16T16:00:00.000000000&#x27;, &#x27;2019-05-16T17:00:00.000000000&#x27;,\n",
       "       &#x27;2019-05-16T18:00:00.000000000&#x27;, &#x27;2019-05-16T19:00:00.000000000&#x27;,\n",
       "       &#x27;2019-05-16T20:00:00.000000000&#x27;, &#x27;2019-05-16T21:00:00.000000000&#x27;,\n",
       "       &#x27;2019-05-16T22:00:00.000000000&#x27;], dtype=&#x27;datetime64[ns]&#x27;)</pre></div></li><li class='xr-var-item'><div class='xr-var-name'><span>step</span></div><div class='xr-var-dims'>()</div><div class='xr-var-dtype'>timedelta64[ns]</div><div class='xr-var-preview xr-preview'>...</div><input id='attrs-dbc2449a-4f0a-402c-ad99-793adeb621c6' class='xr-var-attrs-in' type='checkbox' ><label for='attrs-dbc2449a-4f0a-402c-ad99-793adeb621c6' title='Show/Hide attributes'><svg class='icon xr-icon-file-text2'><use xlink:href='#icon-file-text2'></use></svg></label><input id='data-0c07dfcc-b7a2-47f3-b148-2f500e0e9103' class='xr-var-data-in' type='checkbox'><label for='data-0c07dfcc-b7a2-47f3-b148-2f500e0e9103' title='Show/Hide data repr'><svg class='icon xr-icon-database'><use xlink:href='#icon-database'></use></svg></label><div class='xr-var-attrs'><dl class='xr-attrs'><dt><span>long_name :</span></dt><dd>time since forecast_reference_time</dd><dt><span>standard_name :</span></dt><dd>forecast_period</dd></dl></div><div class='xr-var-data'><pre>array(0, dtype=&#x27;timedelta64[ns]&#x27;)</pre></div></li><li class='xr-var-item'><div class='xr-var-name'><span>atmosphere</span></div><div class='xr-var-dims'>()</div><div class='xr-var-dtype'>float64</div><div class='xr-var-preview xr-preview'>...</div><input id='attrs-78982da4-6631-4de3-9afe-77cb0296927c' class='xr-var-attrs-in' type='checkbox' ><label for='attrs-78982da4-6631-4de3-9afe-77cb0296927c' title='Show/Hide attributes'><svg class='icon xr-icon-file-text2'><use xlink:href='#icon-file-text2'></use></svg></label><input id='data-048fc2d6-bccf-41bb-9d3d-23a4728989bc' class='xr-var-data-in' type='checkbox'><label for='data-048fc2d6-bccf-41bb-9d3d-23a4728989bc' title='Show/Hide data repr'><svg class='icon xr-icon-database'><use xlink:href='#icon-database'></use></svg></label><div class='xr-var-attrs'><dl class='xr-attrs'><dt><span>long_name :</span></dt><dd>original GRIB coordinate for key: level(atmosphere)</dd><dt><span>units :</span></dt><dd>1</dd></dl></div><div class='xr-var-data'><pre>array(0.)</pre></div></li><li class='xr-var-item'><div class='xr-var-name'><span>latitude</span></div><div class='xr-var-dims'>(y, x)</div><div class='xr-var-dtype'>float64</div><div class='xr-var-preview xr-preview'>...</div><input id='attrs-4ab12eda-bb31-475b-9701-f467469909aa' class='xr-var-attrs-in' type='checkbox' ><label for='attrs-4ab12eda-bb31-475b-9701-f467469909aa' title='Show/Hide attributes'><svg class='icon xr-icon-file-text2'><use xlink:href='#icon-file-text2'></use></svg></label><input id='data-9426b8d7-18df-4f35-8c27-2659eda8f0ad' class='xr-var-data-in' type='checkbox'><label for='data-9426b8d7-18df-4f35-8c27-2659eda8f0ad' title='Show/Hide data repr'><svg class='icon xr-icon-database'><use xlink:href='#icon-database'></use></svg></label><div class='xr-var-attrs'><dl class='xr-attrs'><dt><span>units :</span></dt><dd>degrees_north</dd><dt><span>standard_name :</span></dt><dd>latitude</dd><dt><span>long_name :</span></dt><dd>latitude</dd></dl></div><div class='xr-var-data'><pre>[1905141 values with dtype=float64]</pre></div></li><li class='xr-var-item'><div class='xr-var-name'><span>longitude</span></div><div class='xr-var-dims'>(y, x)</div><div class='xr-var-dtype'>float64</div><div class='xr-var-preview xr-preview'>...</div><input id='attrs-9bd5862a-7940-4c02-abba-e1095a949677' class='xr-var-attrs-in' type='checkbox' ><label for='attrs-9bd5862a-7940-4c02-abba-e1095a949677' title='Show/Hide attributes'><svg class='icon xr-icon-file-text2'><use xlink:href='#icon-file-text2'></use></svg></label><input id='data-7b4d9cf4-6ca4-4757-8f09-4061ab04c0fc' class='xr-var-data-in' type='checkbox'><label for='data-7b4d9cf4-6ca4-4757-8f09-4061ab04c0fc' title='Show/Hide data repr'><svg class='icon xr-icon-database'><use xlink:href='#icon-database'></use></svg></label><div class='xr-var-attrs'><dl class='xr-attrs'><dt><span>units :</span></dt><dd>degrees_east</dd><dt><span>standard_name :</span></dt><dd>longitude</dd><dt><span>long_name :</span></dt><dd>longitude</dd></dl></div><div class='xr-var-data'><pre>[1905141 values with dtype=float64]</pre></div></li><li class='xr-var-item'><div class='xr-var-name'><span>valid_time</span></div><div class='xr-var-dims'>(time)</div><div class='xr-var-dtype'>datetime64[ns]</div><div class='xr-var-preview xr-preview'>...</div><input id='attrs-89dea27f-ce67-499f-b2e2-29cb6b2d58a2' class='xr-var-attrs-in' type='checkbox' ><label for='attrs-89dea27f-ce67-499f-b2e2-29cb6b2d58a2' title='Show/Hide attributes'><svg class='icon xr-icon-file-text2'><use xlink:href='#icon-file-text2'></use></svg></label><input id='data-136a6204-42a5-4194-b41e-956d8f4ff146' class='xr-var-data-in' type='checkbox'><label for='data-136a6204-42a5-4194-b41e-956d8f4ff146' title='Show/Hide data repr'><svg class='icon xr-icon-database'><use xlink:href='#icon-database'></use></svg></label><div class='xr-var-attrs'><dl class='xr-attrs'><dt><span>standard_name :</span></dt><dd>time</dd><dt><span>long_name :</span></dt><dd>time</dd></dl></div><div class='xr-var-data'><pre>array([&#x27;2019-05-16T00:00:00.000000000&#x27;, &#x27;2019-05-16T01:00:00.000000000&#x27;,\n",
       "       &#x27;2019-05-16T02:00:00.000000000&#x27;, &#x27;2019-05-16T03:00:00.000000000&#x27;,\n",
       "       &#x27;2019-05-16T04:00:00.000000000&#x27;, &#x27;2019-05-16T05:00:00.000000000&#x27;,\n",
       "       &#x27;2019-05-16T06:00:00.000000000&#x27;, &#x27;2019-05-16T07:00:00.000000000&#x27;,\n",
       "       &#x27;2019-05-16T08:00:00.000000000&#x27;, &#x27;2019-05-16T09:00:00.000000000&#x27;,\n",
       "       &#x27;2019-05-16T10:00:00.000000000&#x27;, &#x27;2019-05-16T11:00:00.000000000&#x27;,\n",
       "       &#x27;2019-05-16T12:00:00.000000000&#x27;, &#x27;2019-05-16T13:00:00.000000000&#x27;,\n",
       "       &#x27;2019-05-16T14:00:00.000000000&#x27;, &#x27;2019-05-16T15:00:00.000000000&#x27;,\n",
       "       &#x27;2019-05-16T16:00:00.000000000&#x27;, &#x27;2019-05-16T17:00:00.000000000&#x27;,\n",
       "       &#x27;2019-05-16T18:00:00.000000000&#x27;, &#x27;2019-05-16T19:00:00.000000000&#x27;,\n",
       "       &#x27;2019-05-16T20:00:00.000000000&#x27;, &#x27;2019-05-16T21:00:00.000000000&#x27;,\n",
       "       &#x27;2019-05-16T22:00:00.000000000&#x27;], dtype=&#x27;datetime64[ns]&#x27;)</pre></div></li><li class='xr-var-item'><div class='xr-var-name'><span>surface</span></div><div class='xr-var-dims'>()</div><div class='xr-var-dtype'>float64</div><div class='xr-var-preview xr-preview'>...</div><input id='attrs-6227a23e-f5d0-4773-ab6e-2c50a8b91890' class='xr-var-attrs-in' type='checkbox' ><label for='attrs-6227a23e-f5d0-4773-ab6e-2c50a8b91890' title='Show/Hide attributes'><svg class='icon xr-icon-file-text2'><use xlink:href='#icon-file-text2'></use></svg></label><input id='data-56c1a032-476a-41fa-b880-2266bd24b1ca' class='xr-var-data-in' type='checkbox'><label for='data-56c1a032-476a-41fa-b880-2266bd24b1ca' title='Show/Hide data repr'><svg class='icon xr-icon-database'><use xlink:href='#icon-database'></use></svg></label><div class='xr-var-attrs'><dl class='xr-attrs'><dt><span>long_name :</span></dt><dd>original GRIB coordinate for key: level(surface)</dd><dt><span>units :</span></dt><dd>1</dd></dl></div><div class='xr-var-data'><pre>array(0.)</pre></div></li></ul></div></li><li class='xr-section-item'><input id='section-677a43cb-52f7-4958-b518-d57eea2da8f3' class='xr-section-summary-in' type='checkbox'  checked><label for='section-677a43cb-52f7-4958-b518-d57eea2da8f3' class='xr-section-summary' >Data variables: <span>(3)</span></label><div class='xr-section-inline-details'></div><div class='xr-section-details'><ul class='xr-var-list'><li class='xr-var-item'><div class='xr-var-name'><span>hail</span></div><div class='xr-var-dims'>(time, y, x)</div><div class='xr-var-dtype'>float32</div><div class='xr-var-preview xr-preview'>...</div><input id='attrs-ac30b6e5-916b-4d18-975b-209757b7293b' class='xr-var-attrs-in' type='checkbox' ><label for='attrs-ac30b6e5-916b-4d18-975b-209757b7293b' title='Show/Hide attributes'><svg class='icon xr-icon-file-text2'><use xlink:href='#icon-file-text2'></use></svg></label><input id='data-6ab8c595-1776-4436-ada3-79be9a1efb33' class='xr-var-data-in' type='checkbox'><label for='data-6ab8c595-1776-4436-ada3-79be9a1efb33' title='Show/Hide data repr'><svg class='icon xr-icon-database'><use xlink:href='#icon-database'></use></svg></label><div class='xr-var-attrs'><dl class='xr-attrs'><dt><span>GRIB_paramId :</span></dt><dd>260027</dd><dt><span>GRIB_dataType :</span></dt><dd>fc</dd><dt><span>GRIB_numberOfPoints :</span></dt><dd>1905141</dd><dt><span>GRIB_typeOfLevel :</span></dt><dd>atmosphere</dd><dt><span>GRIB_stepUnits :</span></dt><dd>1</dd><dt><span>GRIB_stepType :</span></dt><dd>max</dd><dt><span>GRIB_gridType :</span></dt><dd>lambert</dd><dt><span>GRIB_DxInMetres :</span></dt><dd>3000.0</dd><dt><span>GRIB_DyInMetres :</span></dt><dd>3000.0</dd><dt><span>GRIB_LaDInDegrees :</span></dt><dd>38.5</dd><dt><span>GRIB_Latin1InDegrees :</span></dt><dd>38.5</dd><dt><span>GRIB_Latin2InDegrees :</span></dt><dd>38.5</dd><dt><span>GRIB_LoVInDegrees :</span></dt><dd>262.5</dd><dt><span>GRIB_NV :</span></dt><dd>0</dd><dt><span>GRIB_Nx :</span></dt><dd>1799</dd><dt><span>GRIB_Ny :</span></dt><dd>1059</dd><dt><span>GRIB_cfName :</span></dt><dd>unknown</dd><dt><span>GRIB_cfVarName :</span></dt><dd>hail</dd><dt><span>GRIB_gridDefinitionDescription :</span></dt><dd>Lambert Conformal can be secant or tangent, conical or bipolar</dd><dt><span>GRIB_iScansNegatively :</span></dt><dd>0</dd><dt><span>GRIB_jPointsAreConsecutive :</span></dt><dd>0</dd><dt><span>GRIB_jScansPositively :</span></dt><dd>1</dd><dt><span>GRIB_latitudeOfFirstGridPointInDegrees :</span></dt><dd>21.138123</dd><dt><span>GRIB_latitudeOfSouthernPoleInDegrees :</span></dt><dd>0.0</dd><dt><span>GRIB_longitudeOfFirstGridPointInDegrees :</span></dt><dd>237.280472</dd><dt><span>GRIB_longitudeOfSouthernPoleInDegrees :</span></dt><dd>0.0</dd><dt><span>GRIB_missingValue :</span></dt><dd>9999</dd><dt><span>GRIB_name :</span></dt><dd>Hail</dd><dt><span>GRIB_shortName :</span></dt><dd>hail</dd><dt><span>GRIB_units :</span></dt><dd>m</dd><dt><span>long_name :</span></dt><dd>Hail</dd><dt><span>units :</span></dt><dd>m</dd><dt><span>standard_name :</span></dt><dd>unknown</dd></dl></div><div class='xr-var-data'><pre>[43818243 values with dtype=float32]</pre></div></li><li class='xr-var-item'><div class='xr-var-name'><span>refc</span></div><div class='xr-var-dims'>(time, y, x)</div><div class='xr-var-dtype'>float32</div><div class='xr-var-preview xr-preview'>...</div><input id='attrs-4601ae78-ec22-49ab-a6c2-38ecc96fb572' class='xr-var-attrs-in' type='checkbox' ><label for='attrs-4601ae78-ec22-49ab-a6c2-38ecc96fb572' title='Show/Hide attributes'><svg class='icon xr-icon-file-text2'><use xlink:href='#icon-file-text2'></use></svg></label><input id='data-e8d79307-054a-4890-a563-e17fce98fbf9' class='xr-var-data-in' type='checkbox'><label for='data-e8d79307-054a-4890-a563-e17fce98fbf9' title='Show/Hide data repr'><svg class='icon xr-icon-database'><use xlink:href='#icon-database'></use></svg></label><div class='xr-var-attrs'><dl class='xr-attrs'><dt><span>GRIB_paramId :</span></dt><dd>260390</dd><dt><span>GRIB_dataType :</span></dt><dd>fc</dd><dt><span>GRIB_numberOfPoints :</span></dt><dd>1905141</dd><dt><span>GRIB_typeOfLevel :</span></dt><dd>atmosphere</dd><dt><span>GRIB_stepUnits :</span></dt><dd>1</dd><dt><span>GRIB_stepType :</span></dt><dd>instant</dd><dt><span>GRIB_gridType :</span></dt><dd>lambert</dd><dt><span>GRIB_DxInMetres :</span></dt><dd>3000.0</dd><dt><span>GRIB_DyInMetres :</span></dt><dd>3000.0</dd><dt><span>GRIB_LaDInDegrees :</span></dt><dd>38.5</dd><dt><span>GRIB_Latin1InDegrees :</span></dt><dd>38.5</dd><dt><span>GRIB_Latin2InDegrees :</span></dt><dd>38.5</dd><dt><span>GRIB_LoVInDegrees :</span></dt><dd>262.5</dd><dt><span>GRIB_NV :</span></dt><dd>0</dd><dt><span>GRIB_Nx :</span></dt><dd>1799</dd><dt><span>GRIB_Ny :</span></dt><dd>1059</dd><dt><span>GRIB_cfName :</span></dt><dd>unknown</dd><dt><span>GRIB_cfVarName :</span></dt><dd>unknown</dd><dt><span>GRIB_gridDefinitionDescription :</span></dt><dd>Lambert Conformal can be secant or tangent, conical or bipolar</dd><dt><span>GRIB_iScansNegatively :</span></dt><dd>0</dd><dt><span>GRIB_jPointsAreConsecutive :</span></dt><dd>0</dd><dt><span>GRIB_jScansPositively :</span></dt><dd>1</dd><dt><span>GRIB_latitudeOfFirstGridPointInDegrees :</span></dt><dd>21.138123</dd><dt><span>GRIB_latitudeOfSouthernPoleInDegrees :</span></dt><dd>0.0</dd><dt><span>GRIB_longitudeOfFirstGridPointInDegrees :</span></dt><dd>237.280472</dd><dt><span>GRIB_longitudeOfSouthernPoleInDegrees :</span></dt><dd>0.0</dd><dt><span>GRIB_missingValue :</span></dt><dd>9999</dd><dt><span>GRIB_name :</span></dt><dd>Maximum/Composite radar reflectivity</dd><dt><span>GRIB_shortName :</span></dt><dd>refc</dd><dt><span>GRIB_units :</span></dt><dd>dB</dd><dt><span>long_name :</span></dt><dd>Maximum/Composite radar reflectivity</dd><dt><span>units :</span></dt><dd>dB</dd><dt><span>standard_name :</span></dt><dd>unknown</dd></dl></div><div class='xr-var-data'><pre>[43818243 values with dtype=float32]</pre></div></li><li class='xr-var-item'><div class='xr-var-name'><span>cape</span></div><div class='xr-var-dims'>(time, y, x)</div><div class='xr-var-dtype'>float32</div><div class='xr-var-preview xr-preview'>...</div><input id='attrs-549cf3d5-74c9-46d1-af5b-5059e8a67733' class='xr-var-attrs-in' type='checkbox' ><label for='attrs-549cf3d5-74c9-46d1-af5b-5059e8a67733' title='Show/Hide attributes'><svg class='icon xr-icon-file-text2'><use xlink:href='#icon-file-text2'></use></svg></label><input id='data-3f576ca9-df8a-4d60-86d7-8204db81d6f2' class='xr-var-data-in' type='checkbox'><label for='data-3f576ca9-df8a-4d60-86d7-8204db81d6f2' title='Show/Hide data repr'><svg class='icon xr-icon-database'><use xlink:href='#icon-database'></use></svg></label><div class='xr-var-attrs'><dl class='xr-attrs'><dt><span>GRIB_paramId :</span></dt><dd>59</dd><dt><span>GRIB_dataType :</span></dt><dd>fc</dd><dt><span>GRIB_numberOfPoints :</span></dt><dd>1905141</dd><dt><span>GRIB_typeOfLevel :</span></dt><dd>surface</dd><dt><span>GRIB_stepUnits :</span></dt><dd>1</dd><dt><span>GRIB_stepType :</span></dt><dd>instant</dd><dt><span>GRIB_gridType :</span></dt><dd>lambert</dd><dt><span>GRIB_DxInMetres :</span></dt><dd>3000.0</dd><dt><span>GRIB_DyInMetres :</span></dt><dd>3000.0</dd><dt><span>GRIB_LaDInDegrees :</span></dt><dd>38.5</dd><dt><span>GRIB_Latin1InDegrees :</span></dt><dd>38.5</dd><dt><span>GRIB_Latin2InDegrees :</span></dt><dd>38.5</dd><dt><span>GRIB_LoVInDegrees :</span></dt><dd>262.5</dd><dt><span>GRIB_NV :</span></dt><dd>0</dd><dt><span>GRIB_Nx :</span></dt><dd>1799</dd><dt><span>GRIB_Ny :</span></dt><dd>1059</dd><dt><span>GRIB_cfName :</span></dt><dd>unknown</dd><dt><span>GRIB_cfVarName :</span></dt><dd>unknown</dd><dt><span>GRIB_gridDefinitionDescription :</span></dt><dd>Lambert Conformal can be secant or tangent, conical or bipolar</dd><dt><span>GRIB_iScansNegatively :</span></dt><dd>0</dd><dt><span>GRIB_jPointsAreConsecutive :</span></dt><dd>0</dd><dt><span>GRIB_jScansPositively :</span></dt><dd>1</dd><dt><span>GRIB_latitudeOfFirstGridPointInDegrees :</span></dt><dd>21.138123</dd><dt><span>GRIB_latitudeOfSouthernPoleInDegrees :</span></dt><dd>0.0</dd><dt><span>GRIB_longitudeOfFirstGridPointInDegrees :</span></dt><dd>237.280472</dd><dt><span>GRIB_longitudeOfSouthernPoleInDegrees :</span></dt><dd>0.0</dd><dt><span>GRIB_missingValue :</span></dt><dd>9999</dd><dt><span>GRIB_name :</span></dt><dd>Convective available potential energy</dd><dt><span>GRIB_shortName :</span></dt><dd>cape</dd><dt><span>GRIB_units :</span></dt><dd>J kg**-1</dd><dt><span>long_name :</span></dt><dd>Convective available potential energy</dd><dt><span>units :</span></dt><dd>J kg**-1</dd><dt><span>standard_name :</span></dt><dd>unknown</dd></dl></div><div class='xr-var-data'><pre>[43818243 values with dtype=float32]</pre></div></li></ul></div></li><li class='xr-section-item'><input id='section-53513cf5-0895-4dbe-a13f-7437367ff9e1' class='xr-section-summary-in' type='checkbox' disabled ><label for='section-53513cf5-0895-4dbe-a13f-7437367ff9e1' class='xr-section-summary'  title='Expand/collapse section'>Attributes: <span>(0)</span></label><div class='xr-section-inline-details'></div><div class='xr-section-details'><dl class='xr-attrs'></dl></div></li></ul></div></div>"
      ],
      "text/plain": [
       "<xarray.Dataset>\n",
       "Dimensions:     (time: 23, x: 1799, y: 1059)\n",
       "Coordinates:\n",
       "  * time        (time) datetime64[ns] 2019-05-16 ... 2019-05-16T22:00:00\n",
       "    step        timedelta64[ns] ...\n",
       "    atmosphere  float64 ...\n",
       "    latitude    (y, x) float64 ...\n",
       "    longitude   (y, x) float64 ...\n",
       "    valid_time  (time) datetime64[ns] ...\n",
       "    surface     float64 ...\n",
       "Dimensions without coordinates: x, y\n",
       "Data variables:\n",
       "    hail        (time, y, x) float32 ...\n",
       "    refc        (time, y, x) float32 ...\n",
       "    cape        (time, y, x) float32 ..."
      ]
     },
     "execution_count": 38,
     "metadata": {},
     "output_type": "execute_result"
    }
   ],
   "source": [
    "input_ds"
   ]
  },
  {
   "cell_type": "code",
   "execution_count": 39,
   "id": "c4a685cd-ddce-43b0-9beb-fb0991ddaba5",
   "metadata": {},
   "outputs": [
    {
     "data": {
      "text/plain": [
       "(3, 23, 1059, 1799)"
      ]
     },
     "execution_count": 39,
     "metadata": {},
     "output_type": "execute_result"
    }
   ],
   "source": [
    "input_array = np.stack([input_ds.hail.values,input_ds.refc.values,input_ds.cape.values])\n",
    "input_array.shape"
   ]
  },
  {
   "cell_type": "markdown",
   "id": "2ee811cf-04c0-4079-9fc0-26d943deeb08",
   "metadata": {},
   "source": [
    "The array needs to be in the form (batch, x, y, variables) so we want (15,1792,1056,3)"
   ]
  },
  {
   "cell_type": "code",
   "execution_count": 40,
   "id": "01e28bc4-39e7-46d1-8812-fb7548f2e0b9",
   "metadata": {},
   "outputs": [],
   "source": [
    "#The arrays are too big. I'm going to try to isolate the midwest to see if I can get it to not segfault\n",
    "\n",
    "X_training = input_array[:,:15,500:756,1022:1278]\n",
    "X_validation = input_array[:,15:20,500:756,1022:1278]\n",
    "X_testing = input_array[:,20:,500:756,1022:1278]\n",
    "\n",
    "Y_training = output_ds.hail[:15,500:756,1022:1278].values\n",
    "Y_validation = output_ds.hail[15:20,500:756,1022:1278].values\n",
    "Y_testing = output_ds.hail[20:,500:756,1022:1278].values\n",
    "\n",
    "X_total = input_array[:,:,500:756,1022:1278]\n",
    "Y_total = output_ds.hail[:,500:756,1022:1278].values"
   ]
  },
  {
   "cell_type": "code",
   "execution_count": 41,
   "id": "eb45fd24-adb1-4e5c-9fac-734ef3d5f300",
   "metadata": {},
   "outputs": [
    {
     "data": {
      "text/plain": [
       "<matplotlib.collections.QuadMesh at 0x1ce42bd5f70>"
      ]
     },
     "execution_count": 41,
     "metadata": {},
     "output_type": "execute_result"
    },
    {
     "data": {
      "image/png": "[encoded data removed]",
      "text/plain": [
       "<Figure size 432x288 with 1 Axes>"
      ]
     },
     "metadata": {
      "needs_background": "light"
     },
     "output_type": "display_data"
    }
   ],
   "source": [
    "#True output:\n",
    "plt.pcolormesh(Y_total[20,:,:])"
   ]
  },
  {
   "cell_type": "code",
   "execution_count": 42,
   "id": "54fffe37-29fb-4a9e-b38e-f578021819ca",
   "metadata": {},
   "outputs": [
    {
     "data": {
      "text/plain": [
       "(3, 256, 256, 3)"
      ]
     },
     "execution_count": 42,
     "metadata": {},
     "output_type": "execute_result"
    }
   ],
   "source": [
    "X_training = np.swapaxes(X_training,0,1)\n",
    "X_training = np.swapaxes(X_training,1,3)\n",
    "X_validation = np.swapaxes(X_validation,0,1)\n",
    "X_validation = np.swapaxes(X_validation,1,3)\n",
    "X_testing = np.swapaxes(X_testing,0,1)\n",
    "X_testing = np.swapaxes(X_testing,1,3)\n",
    "X_total = np.swapaxes(X_total,0,1)\n",
    "X_total = np.swapaxes(X_total,1,3)\n",
    "X_testing.shape"
   ]
  },
  {
   "cell_type": "code",
   "execution_count": 43,
   "id": "17f49e1f-115e-4fc7-b7f7-590d1fc852bc",
   "metadata": {},
   "outputs": [
    {
     "data": {
      "text/plain": [
       "(3, 256, 256)"
      ]
     },
     "execution_count": 43,
     "metadata": {},
     "output_type": "execute_result"
    }
   ],
   "source": [
    "Y_training = np.swapaxes(Y_training,1,2)\n",
    "Y_validation = np.swapaxes(Y_validation,1,2)\n",
    "Y_testing = np.swapaxes(Y_testing,1,2)\n",
    "Y_total = np.swapaxes(Y_total,1,2)\n",
    "Y_testing.shape"
   ]
  },
  {
   "cell_type": "code",
   "execution_count": 45,
   "id": "1d72785f-a231-475f-bc2e-479c93b99351",
   "metadata": {},
   "outputs": [
    {
     "data": {
      "text/plain": [
       "0.04322"
      ]
     },
     "execution_count": 45,
     "metadata": {},
     "output_type": "execute_result"
    }
   ],
   "source": [
    "Y_total.max()"
   ]
  },
  {
   "cell_type": "code",
   "execution_count": 33,
   "id": "8a85ca94-298b-4011-ad0a-d603e8d61600",
   "metadata": {},
   "outputs": [
    {
     "name": "stderr",
     "output_type": "stream",
     "text": [
      "<ipython-input-33-f245be9d6125>:3: RuntimeWarning: divide by zero encountered in log10\n",
      "  Y_training = np.log10(Y_training)\n",
      "<ipython-input-33-f245be9d6125>:5: RuntimeWarning: divide by zero encountered in log10\n",
      "  Y_validation = np.log10(Y_validation)\n",
      "<ipython-input-33-f245be9d6125>:7: RuntimeWarning: divide by zero encountered in log10\n",
      "  Y_testing = np.log10(Y_testing)\n",
      "<ipython-input-33-f245be9d6125>:9: RuntimeWarning: divide by zero encountered in log10\n",
      "  Y_total = np.log10(Y_total)\n"
     ]
    }
   ],
   "source": [
    "#Log it because of rarity of events\n",
    "np.where(Y_training==0, 1e-10, Y_training) \n",
    "Y_training = np.log10(Y_training)\n",
    "np.where(Y_validation==0, 1e-10, Y_validation) \n",
    "Y_validation = np.log10(Y_validation)\n",
    "np.where(Y_testing==0, 1e-10, Y_testing) \n",
    "Y_testing = np.log10(Y_testing)\n",
    "np.where(Y_total==0, 1e-10, Y_total)\n",
    "Y_total = np.log10(Y_total)"
   ]
  },
  {
   "cell_type": "code",
   "execution_count": 35,
   "id": "df6e1500-a040-43f4-b261-7e501fe058b6",
   "metadata": {},
   "outputs": [
    {
     "data": {
      "text/plain": [
       "array([[[-inf, -inf, -inf, ..., -inf, -inf, -inf],\n",
       "        [-inf, -inf, -inf, ..., -inf, -inf, -inf],\n",
       "        [-inf, -inf, -inf, ..., -inf, -inf, -inf],\n",
       "        ...,\n",
       "        [-inf, -inf, -inf, ..., -inf, -inf, -inf],\n",
       "        [-inf, -inf, -inf, ..., -inf, -inf, -inf],\n",
       "        [-inf, -inf, -inf, ..., -inf, -inf, -inf]],\n",
       "\n",
       "       [[-inf, -inf, -inf, ..., -inf, -inf, -inf],\n",
       "        [-inf, -inf, -inf, ..., -inf, -inf, -inf],\n",
       "        [-inf, -inf, -inf, ..., -inf, -inf, -inf],\n",
       "        ...,\n",
       "        [-inf, -inf, -inf, ..., -inf, -inf, -inf],\n",
       "        [-inf, -inf, -inf, ..., -inf, -inf, -inf],\n",
       "        [-inf, -inf, -inf, ..., -inf, -inf, -inf]],\n",
       "\n",
       "       [[-inf, -inf, -inf, ..., -inf, -inf, -inf],\n",
       "        [-inf, -inf, -inf, ..., -inf, -inf, -inf],\n",
       "        [-inf, -inf, -inf, ..., -inf, -inf, -inf],\n",
       "        ...,\n",
       "        [-inf, -inf, -inf, ..., -inf, -inf, -inf],\n",
       "        [-inf, -inf, -inf, ..., -inf, -inf, -inf],\n",
       "        [-inf, -inf, -inf, ..., -inf, -inf, -inf]],\n",
       "\n",
       "       ...,\n",
       "\n",
       "       [[-inf, -inf, -inf, ..., -inf, -inf, -inf],\n",
       "        [-inf, -inf, -inf, ..., -inf, -inf, -inf],\n",
       "        [-inf, -inf, -inf, ..., -inf, -inf, -inf],\n",
       "        ...,\n",
       "        [-inf, -inf, -inf, ..., -inf, -inf, -inf],\n",
       "        [-inf, -inf, -inf, ..., -inf, -inf, -inf],\n",
       "        [-inf, -inf, -inf, ..., -inf, -inf, -inf]],\n",
       "\n",
       "       [[-inf, -inf, -inf, ..., -inf, -inf, -inf],\n",
       "        [-inf, -inf, -inf, ..., -inf, -inf, -inf],\n",
       "        [-inf, -inf, -inf, ..., -inf, -inf, -inf],\n",
       "        ...,\n",
       "        [-inf, -inf, -inf, ..., -inf, -inf, -inf],\n",
       "        [-inf, -inf, -inf, ..., -inf, -inf, -inf],\n",
       "        [-inf, -inf, -inf, ..., -inf, -inf, -inf]],\n",
       "\n",
       "       [[-inf, -inf, -inf, ..., -inf, -inf, -inf],\n",
       "        [-inf, -inf, -inf, ..., -inf, -inf, -inf],\n",
       "        [-inf, -inf, -inf, ..., -inf, -inf, -inf],\n",
       "        ...,\n",
       "        [-inf, -inf, -inf, ..., -inf, -inf, -inf],\n",
       "        [-inf, -inf, -inf, ..., -inf, -inf, -inf],\n",
       "        [-inf, -inf, -inf, ..., -inf, -inf, -inf]]], dtype=float32)"
      ]
     },
     "execution_count": 35,
     "metadata": {},
     "output_type": "execute_result"
    }
   ],
   "source": [
    "Y_total"
   ]
  },
  {
   "cell_type": "markdown",
   "id": "da24537e-d996-41d0-9493-6883962ee6be",
   "metadata": {},
   "source": [
    "## Making the U-Net"
   ]
  },
  {
   "cell_type": "markdown",
   "id": "9d717b2d-f318-49de-84af-505775c96295",
   "metadata": {},
   "source": [
    "documentation: https://github.com/yingkaisha/keras-unet-collection"
   ]
  },
  {
   "cell_type": "code",
   "execution_count": 11,
   "id": "b59e90bd-f359-42b0-9102-be5c8a9f9a5b",
   "metadata": {},
   "outputs": [],
   "source": [
    "#Unet = convolutional neural net\n",
    "#Downscales an image several times to extract features of various sizes\n",
    "#Upscales it back to an image of the original size"
   ]
  },
  {
   "cell_type": "code",
   "execution_count": 12,
   "id": "9e15f851-c9b6-451e-a259-6365353c5c92",
   "metadata": {},
   "outputs": [],
   "source": [
    "#making a basic unet\n",
    "# image_size -- length by width by channels used to predict the outcome (like CAPE, refc, ...), time will be batch-size which comes in in the generator\n",
    "# filter_num --  ex: [32,64,128,256,512,1024], but I think these will be proportional to original image size\n",
    "# num_labels -- number of targets we are trying to predict = 1\n",
    "# stack_num_down -- number of layers we go down (he did 5)\n",
    "# stack_num_up -- number of layers we go up (he did 5)\n",
    "# activation -- activation function in the hidden layers\n",
    "# output_activation -- activation function for the output layer\n",
    "# batch_norm -- scales arrays to a common scale, we usually want this on to keep units from having too much of an effect\n",
    "# pool -- how do you want to pool the data during downscaling? True = max\n",
    "# unpool -- how do you want to interpolate during upscaling? True = ??\n",
    "# name -- name for the layers when summary function is called\n",
    "\n",
    "\n",
    "model = models.unet_2d((256,256,3),\n",
    "                       filter_num = [64,128], #[112,224,448,896,1792],\n",
    "                       n_labels = 1,\n",
    "                       stack_num_down = 1,\n",
    "                       stack_num_up = 1,\n",
    "                       activation = 'LeakyReLU',\n",
    "                       output_activation = 'ReLU',\n",
    "                       batch_norm = True,\n",
    "                       pool = True,\n",
    "                       unpool = True,\n",
    "                       name = 'unet')"
   ]
  },
  {
   "cell_type": "code",
   "execution_count": 13,
   "id": "bfaa3e46-3e70-4277-b77c-2105f67b448c",
   "metadata": {},
   "outputs": [],
   "source": [
    "#compiling a unet\n",
    "#unets use gradient descent\n",
    "#Adam is an optimizer for the model which is a gradient descent replacemtne\n",
    "# learning_rate - how fast does the model learn? Too high, the model will finish training before it's actually learned, too slow is inefficient\n",
    "# start learning with 10^-4, 10^-3, 10^-5\n",
    "# loss function measure the error between the predicted value and the truth value. Error should go down durring training\n",
    "# metrics could be AUC or accuracy - Andrew doesn't worry about this one. Doesn't affect the model, just affects the model output\n",
    "\n",
    "learning_rate = 1e-4\n",
    "loss_function = keras.losses.MeanSquaredError()     #loss_function = 'tversky' # could be 'dice', 'tversky', 'categorical_crossentropy', probably more too\n",
    "\n",
    "adam = Adam(learning_rate=learning_rate)\n",
    "model.compile(loss=loss_function, optimizer=adam, metrics=tf.keras.metrics.Accuracy()) #Accurracy"
   ]
  },
  {
   "cell_type": "code",
   "execution_count": 14,
   "id": "5ab475f1-8d25-4cfd-bca4-d93e1a54b58c",
   "metadata": {},
   "outputs": [
    {
     "name": "stdout",
     "output_type": "stream",
     "text": [
      "Model: \"unet_model\"\n",
      "__________________________________________________________________________________________________\n",
      "Layer (type)                    Output Shape         Param #     Connected to                     \n",
      "==================================================================================================\n",
      "input_1 (InputLayer)            [(None, 256, 256, 3) 0                                            \n",
      "__________________________________________________________________________________________________\n",
      "unet_down0_0 (Conv2D)           (None, 256, 256, 64) 1728        input_1[0][0]                    \n",
      "__________________________________________________________________________________________________\n",
      "unet_down0_0_bn (BatchNormaliza (None, 256, 256, 64) 256         unet_down0_0[0][0]               \n",
      "__________________________________________________________________________________________________\n",
      "unet_down0_0_activation (LeakyR (None, 256, 256, 64) 0           unet_down0_0_bn[0][0]            \n",
      "__________________________________________________________________________________________________\n",
      "unet_down1_encode_maxpool (MaxP (None, 128, 128, 64) 0           unet_down0_0_activation[0][0]    \n",
      "__________________________________________________________________________________________________\n",
      "unet_down1_conv_0 (Conv2D)      (None, 128, 128, 128 73728       unet_down1_encode_maxpool[0][0]  \n",
      "__________________________________________________________________________________________________\n",
      "unet_down1_conv_0_bn (BatchNorm (None, 128, 128, 128 512         unet_down1_conv_0[0][0]          \n",
      "__________________________________________________________________________________________________\n",
      "unet_down1_conv_0_activation (L (None, 128, 128, 128 0           unet_down1_conv_0_bn[0][0]       \n",
      "__________________________________________________________________________________________________\n",
      "unet_up0_decode_unpool (UpSampl (None, 256, 256, 128 0           unet_down1_conv_0_activation[0][0\n",
      "__________________________________________________________________________________________________\n",
      "unet_up0_conv_before_concat_0 ( (None, 256, 256, 64) 73728       unet_up0_decode_unpool[0][0]     \n",
      "__________________________________________________________________________________________________\n",
      "unet_up0_conv_before_concat_0_b (None, 256, 256, 64) 256         unet_up0_conv_before_concat_0[0][\n",
      "__________________________________________________________________________________________________\n",
      "unet_up0_conv_before_concat_0_a (None, 256, 256, 64) 0           unet_up0_conv_before_concat_0_bn[\n",
      "__________________________________________________________________________________________________\n",
      "unet_up0_concat (Concatenate)   (None, 256, 256, 128 0           unet_up0_conv_before_concat_0_act\n",
      "                                                                 unet_down0_0_activation[0][0]    \n",
      "__________________________________________________________________________________________________\n",
      "unet_up0_conv_after_concat_0 (C (None, 256, 256, 64) 73728       unet_up0_concat[0][0]            \n",
      "__________________________________________________________________________________________________\n",
      "unet_up0_conv_after_concat_0_bn (None, 256, 256, 64) 256         unet_up0_conv_after_concat_0[0][0\n",
      "__________________________________________________________________________________________________\n",
      "unet_up0_conv_after_concat_0_ac (None, 256, 256, 64) 0           unet_up0_conv_after_concat_0_bn[0\n",
      "__________________________________________________________________________________________________\n",
      "unet_output (Conv2D)            (None, 256, 256, 1)  65          unet_up0_conv_after_concat_0_acti\n",
      "__________________________________________________________________________________________________\n",
      "unet_output_activation (ReLU)   (None, 256, 256, 1)  0           unet_output[0][0]                \n",
      "==================================================================================================\n",
      "Total params: 224,257\n",
      "Trainable params: 223,617\n",
      "Non-trainable params: 640\n",
      "__________________________________________________________________________________________________\n"
     ]
    }
   ],
   "source": [
    "#print out the model\n",
    "model.summary()\n",
    "\n",
    "#the first output dimension will say \"None\" because it's the batch size and it's not declared"
   ]
  },
  {
   "cell_type": "code",
   "execution_count": 15,
   "id": "c764b24e-7640-40df-a8c8-f1c176b93bf3",
   "metadata": {},
   "outputs": [
    {
     "name": "stdout",
     "output_type": "stream",
     "text": [
      "Epoch 1/20\n",
      "1/1 - 46s - loss: inf - accuracy: 0.0000e+00\n",
      "\n",
      "Epoch 00001: loss did not improve from inf\n",
      "Epoch 2/20\n",
      "1/1 - 31s - loss: nan - accuracy: 0.0000e+00\n",
      "\n",
      "Epoch 00002: loss did not improve from inf\n",
      "Epoch 3/20\n",
      "1/1 - 31s - loss: nan - accuracy: 0.0000e+00\n",
      "\n",
      "Epoch 00003: loss did not improve from inf\n",
      "Epoch 4/20\n",
      "1/1 - 30s - loss: nan - accuracy: 0.0000e+00\n",
      "\n",
      "Epoch 00004: loss did not improve from inf\n",
      "Epoch 5/20\n",
      "1/1 - 33s - loss: nan - accuracy: 0.0000e+00\n",
      "\n",
      "Epoch 00005: loss did not improve from inf\n",
      "Epoch 6/20\n",
      "1/1 - 27s - loss: nan - accuracy: 0.0000e+00\n",
      "\n",
      "Epoch 00006: loss did not improve from inf\n",
      "Epoch 7/20\n",
      "1/1 - 30s - loss: nan - accuracy: 0.0000e+00\n",
      "\n",
      "Epoch 00007: loss did not improve from inf\n",
      "Epoch 8/20\n",
      "1/1 - 31s - loss: nan - accuracy: 0.0000e+00\n",
      "\n",
      "Epoch 00008: loss did not improve from inf\n",
      "Epoch 9/20\n",
      "1/1 - 32s - loss: nan - accuracy: 0.0000e+00\n",
      "\n",
      "Epoch 00009: loss did not improve from inf\n",
      "Epoch 10/20\n",
      "1/1 - 40s - loss: nan - accuracy: 0.0000e+00\n",
      "\n",
      "Epoch 00010: loss did not improve from inf\n",
      "Epoch 11/20\n",
      "1/1 - 31s - loss: nan - accuracy: 0.0000e+00\n",
      "\n",
      "Epoch 00011: loss did not improve from inf\n",
      "Epoch 12/20\n",
      "1/1 - 30s - loss: nan - accuracy: 0.0000e+00\n",
      "\n",
      "Epoch 00012: loss did not improve from inf\n",
      "Epoch 13/20\n",
      "1/1 - 26s - loss: nan - accuracy: 0.0000e+00\n",
      "\n",
      "Epoch 00013: loss did not improve from inf\n",
      "Epoch 14/20\n",
      "1/1 - 25s - loss: nan - accuracy: 0.0000e+00\n",
      "\n",
      "Epoch 00014: loss did not improve from inf\n",
      "Epoch 15/20\n",
      "1/1 - 28s - loss: nan - accuracy: 0.0000e+00\n",
      "\n",
      "Epoch 00015: loss did not improve from inf\n",
      "Epoch 16/20\n",
      "1/1 - 35s - loss: nan - accuracy: 0.0000e+00\n",
      "\n",
      "Epoch 00016: loss did not improve from inf\n",
      "Epoch 17/20\n",
      "1/1 - 32s - loss: nan - accuracy: 0.0000e+00\n",
      "\n",
      "Epoch 00017: loss did not improve from inf\n",
      "Epoch 18/20\n",
      "1/1 - 28s - loss: nan - accuracy: 0.0000e+00\n",
      "\n",
      "Epoch 00018: loss did not improve from inf\n",
      "Epoch 19/20\n",
      "1/1 - 28s - loss: nan - accuracy: 0.0000e+00\n",
      "\n",
      "Epoch 00019: loss did not improve from inf\n",
      "Epoch 20/20\n",
      "1/1 - 29s - loss: nan - accuracy: 0.0000e+00\n",
      "\n",
      "Epoch 00020: loss did not improve from inf\n"
     ]
    }
   ],
   "source": [
    "#fit the model\n",
    "\n",
    "#validation frequency = how many epochs should it go in between training and tweaking the model\n",
    "#epochs = number of times it runs over your dataset\n",
    "#batch_size = number of items in the training dataset ||| steps_per_epoch if using a generator\n",
    "#validation_steps = same thing as steps per epoch but during validation\n",
    "#callbacks = extra setting for the model - like model checkpoint, early stopping\n",
    "    #tf.keras.callbacks.ModelCheckpoint - probably want to use this - saves the model periodically - usually moniter the loss function, save_best_only = True\n",
    "    #early stopping = EarlyStopping('loss',patience=500,verbose=2) - will stop the model when it starts to perform badly on the validation data\n",
    "#workers = how many threads=CPU to use to train batches in parallel (=2)? based on hardware\n",
    "#use_multiprocessing=True\n",
    "#max_queue_size=100000 - the queue holds the batches if the GPU gets backed up\n",
    "    \n",
    "#trained_model = model.fit(train_dataset.repeat(),\n",
    "#                    validation_data=validation_dataset.repeat())\n",
    "\n",
    "#'''\n",
    "#X_training = np.swapaxes(X_training,0,2)\n",
    "#Y_training = np.swapaxes(Y_training,0,2)\n",
    "\n",
    "early_stopping = EarlyStopping('loss',patience=500,verbose=2)\n",
    "checkpoint = tf.keras.callbacks.ModelCheckpoint('unet_test_data/model_test', monitor='loss', verbose=1, save_best_only=True, save_weights_only=False, save_freq='epoch')\n",
    "\n",
    "trained_model = model.fit(X_total,\n",
    "                          Y_total,\n",
    "                          validation_freq=5,\n",
    "                          epochs=20,\n",
    "                          batch_size=23, #steps_per_epoch=23,\n",
    "                          validation_steps=5,\n",
    "                          callbacks=[early_stopping, checkpoint],\n",
    "                          verbose=2,\n",
    "                          workers=2,\n",
    "                          use_multiprocessing=True,\n",
    "                          max_queue_size=100)    #'''\n",
    "#model.fit?"
   ]
  },
  {
   "cell_type": "code",
   "execution_count": 16,
   "id": "7bd1a43b-694c-4f69-9da6-2e6a9af3482d",
   "metadata": {},
   "outputs": [
    {
     "data": {
      "text/plain": [
       "(3, 256, 256, 3)"
      ]
     },
     "execution_count": 16,
     "metadata": {},
     "output_type": "execute_result"
    }
   ],
   "source": [
    "X_testing.shape"
   ]
  },
  {
   "cell_type": "code",
   "execution_count": 17,
   "id": "55e494ef-b56e-43f0-b295-04fcc10b9d53",
   "metadata": {},
   "outputs": [],
   "source": [
    "output = 10**model.predict(X_total)"
   ]
  },
  {
   "cell_type": "code",
   "execution_count": 18,
   "id": "07177916-b89f-4c63-8617-0fbabba9c884",
   "metadata": {},
   "outputs": [
    {
     "data": {
      "text/plain": [
       "(23, 256, 256, 1)"
      ]
     },
     "execution_count": 18,
     "metadata": {},
     "output_type": "execute_result"
    }
   ],
   "source": [
    "output.shape"
   ]
  },
  {
   "cell_type": "code",
   "execution_count": 19,
   "id": "3e6cd183-a951-4651-931f-86056a69266e",
   "metadata": {},
   "outputs": [
    {
     "data": {
      "text/plain": [
       "<matplotlib.collections.QuadMesh at 0x1ce4ab3cac0>"
      ]
     },
     "execution_count": 19,
     "metadata": {},
     "output_type": "execute_result"
    },
    {
     "data": {
      "image/png": "[encoded data removed]",
      "text/plain": [
       "<Figure size 432x288 with 1 Axes>"
      ]
     },
     "metadata": {
      "needs_background": "light"
     },
     "output_type": "display_data"
    }
   ],
   "source": [
    "#True hail\n",
    "plt.pcolormesh(Y_total[20,:,:])"
   ]
  },
  {
   "cell_type": "code",
   "execution_count": 20,
   "id": "5822e2bb-4f9b-4daf-82b7-6bf0dd965587",
   "metadata": {},
   "outputs": [
    {
     "data": {
      "text/plain": [
       "<matplotlib.collections.QuadMesh at 0x1ce4aec7340>"
      ]
     },
     "execution_count": 20,
     "metadata": {},
     "output_type": "execute_result"
    },
    {
     "name": "stderr",
     "output_type": "stream",
     "text": [
      "<__array_function__ internals>:5: UserWarning: Warning: converting a masked element to nan.\n",
      "C:\\Users\\lkspy\\anaconda3\\envs\\hagelslag\\lib\\site-packages\\numpy\\core\\_asarray.py:83: UserWarning: Warning: converting a masked element to nan.\n",
      "  return array(a, dtype, copy=False, order=order)\n"
     ]
    },
    {
     "data": {
      "image/png": "[encoded data removed]",
      "text/plain": [
       "<Figure size 432x288 with 1 Axes>"
      ]
     },
     "metadata": {
      "needs_background": "light"
     },
     "output_type": "display_data"
    }
   ],
   "source": [
    "#ML output\n",
    "plt.pcolormesh(output[20,:,:,0])"
   ]
  },
  {
   "cell_type": "markdown",
   "id": "2bb14bab-970f-4f16-b676-554360466d3d",
   "metadata": {},
   "source": [
    "#### data generators"
   ]
  },
  {
   "cell_type": "code",
   "execution_count": null,
   "id": "1e8240e6-3901-4f31-9704-23b28564bcb5",
   "metadata": {},
   "outputs": [],
   "source": [
    "#DataGenerators are classes/object\n",
    "class DataGenerator(keras.utils.sequence):\n",
    "    def __init__(self,...): #this is a constructor\n",
    "                #when the generator is called, this is the (constructor sort of?)\n",
    "                #this is where we feed in the batch size\n",
    "    \n",
    "    def __len__(self,...):\n",
    "    \n",
    "    def __getitem__(self,...):\n",
    "        input, output = self.__data_generation\n",
    "        return input, output#returns the data to the GPU to be trained - final step of the generator\n",
    "                  \n",
    "    def __data_generation(self,...):\n",
    "\n",
    "tf.data.Dataset.from_generator(DataGenerator, args=[], output_types=(tf.float64,tf.float64))"
   ]
  },
  {
   "cell_type": "code",
   "execution_count": null,
   "id": "44f489be-1af7-4cc4-b374-17b2dcb3e401",
   "metadata": {},
   "outputs": [],
   "source": []
  },
  {
   "cell_type": "code",
   "execution_count": null,
   "id": "68ad5068-6f3a-4dc1-8357-f52f9ac88375",
   "metadata": {},
   "outputs": [],
   "source": []
  },
  {
   "cell_type": "code",
   "execution_count": null,
   "id": "e3834722-01a0-4dc5-84b6-f2f4756e9952",
   "metadata": {},
   "outputs": [],
   "source": []
  },
  {
   "cell_type": "code",
   "execution_count": null,
   "id": "984e032b-f1d5-4f66-adc9-81d28463a1b4",
   "metadata": {},
   "outputs": [],
   "source": [
    "input_ds.latitude"
   ]
  },
  {
   "cell_type": "code",
   "execution_count": null,
   "id": "8f7bb6be-1164-498d-b087-3ad483ae6081",
   "metadata": {},
   "outputs": [],
   "source": []
  },
  {
   "cell_type": "code",
   "execution_count": null,
   "id": "dd3af9de-f666-49b9-ba05-f0a4634653b5",
   "metadata": {},
   "outputs": [],
   "source": [
    "refc_training.shape"
   ]
  },
  {
   "cell_type": "code",
   "execution_count": null,
   "id": "a93584f9-4555-46fe-8e02-a777e9b64d45",
   "metadata": {},
   "outputs": [],
   "source": [
    "#Commonly used hyperparameter list from the models example file:\n",
    "#size of the input tensors\n",
    "input_size = refc_training.shape    \n",
    "\n",
    "#number of convolutional filters per down- and up-sampling blocks (these are the values they had in the example)\n",
    "filter_num = [64,128,256,512]\n",
    "\n",
    "#number of output targets (the 90th percentile of hail)\n",
    "n_labels = 1\n",
    "\n",
    "#activation function: 'ReLU', 'LeakyReLU', 'PReLU', 'ELU', 'GELU', 'Snake'\n",
    "activation = 'LeakyReLU'\n",
    "\n",
    "#activation choices for the output layer\n",
    "output_activation = 'ReLU'\n",
    "\n",
    "\n",
    "#going with the default values of the following:\n",
    "#batch_norm = #T/F batch_normalization?\n",
    "#stack_num_down = #number of convolutional layers per downsampling layer\n",
    "#stack_num_up = #number of convolutional layers per upsampling layer\n",
    "#pool = #False - downsampling with a convolutional layer, True or 'max' - downsampling with max-pooling layer, 'ave' - downsampling with a average-pooling layer\n",
    "#unpool = #False - upsampling with a transpose convolutional layer, True or 'bilinear' - upsampling with bilinear interpolation, 'nearest' - upsampling with reflective padding\n",
    "#name = #user-specified prefix of the configured layer and model\n"
   ]
  },
  {
   "cell_type": "code",
   "execution_count": null,
   "id": "0ce37c81-5e4c-4c2d-8820-cf7938d0dec5",
   "metadata": {},
   "outputs": [],
   "source": [
    "#Create the ML model\n",
    "#attention u-net is the one that was regression in the readme file\n",
    "model = models.att_unet_2d(input_size,\n",
    "                       filter_num,\n",
    "                       n_labels,\n",
    "                       activation=activation,\n",
    "                       output_activation=output_activation)"
   ]
  },
  {
   "cell_type": "code",
   "execution_count": null,
   "id": "8e34820f-4efe-425e-a73c-4218b93f5fbd",
   "metadata": {},
   "outputs": [],
   "source": [
    "model.compile?"
   ]
  },
  {
   "cell_type": "code",
   "execution_count": null,
   "id": "f6a8ef8d-7516-4617-946d-7a17c6f7c3c5",
   "metadata": {},
   "outputs": [],
   "source": [
    "print(refc_training.shape)\n",
    "print(hail_training.shape)"
   ]
  },
  {
   "cell_type": "code",
   "execution_count": null,
   "id": "398329a0-b016-4bc7-b555-187cb3480085",
   "metadata": {},
   "outputs": [],
   "source": [
    "model.compile()\n",
    "model.fit(refc_training, hail_training)"
   ]
  },
  {
   "cell_type": "code",
   "execution_count": null,
   "id": "a3fe109a-f860-40b6-8f04-45832a59f588",
   "metadata": {},
   "outputs": [],
   "source": []
  }
 ],
 "metadata": {
  "kernelspec": {
   "display_name": "Python 3",
   "language": "python",
   "name": "python3"
  },
  "language_info": {
   "codemirror_mode": {
    "name": "ipython",
    "version": 3
   },
   "file_extension": ".py",
   "mimetype": "text/x-python",
   "name": "python",
   "nbconvert_exporter": "python",
   "pygments_lexer": "ipython3",
   "version": "3.8.10"
  }
 },
 "nbformat": 4,
 "nbformat_minor": 5
}
