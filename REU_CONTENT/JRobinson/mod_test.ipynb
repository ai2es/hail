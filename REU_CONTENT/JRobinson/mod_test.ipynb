{
 "cells": [
  {
   "cell_type": "code",
   "execution_count": 1,
   "id": "b2413fdd-9e3d-4ed6-a02d-e56b2da2c741",
   "metadata": {
    "tags": []
   },
   "outputs": [],
   "source": [
    "from keras_unet_collection import models, losses\n",
    "import tensorflow as tf\n",
    "from tensorflow import keras\n",
    "import xarray as xr\n",
    "from tensorflow.keras.optimizers import Adam\n",
    "from tensorflow.keras.utils import to_categorical\n",
    "from tensorflow.keras.callbacks import EarlyStopping\n",
    "import numpy as np\n",
    "import matplotlib.pyplot as plt"
   ]
  },
  {
   "cell_type": "code",
   "execution_count": 2,
   "id": "aa7e976e-fd68-4591-9875-503f39af1bc2",
   "metadata": {},
   "outputs": [],
   "source": [
    "#read in data\n",
    "input_ds = xr.open_dataset(\"conv_test/HRRR_all_input_2016_0413_0022.nc\")\n",
    "output_ds = xr.open_dataset(\"conv_test/MESH_HRRR_20160413_03z.nc\")"
   ]
  },
  {
   "cell_type": "code",
   "execution_count": 4,
   "id": "bdaab3fb-8b12-417f-88de-96e7cd4ecd57",
   "metadata": {},
   "outputs": [
    {
     "data": {
      "text/html": [
       "<div><svg style=\"position: absolute; width: 0; height: 0; overflow: hidden\">\n",
       "<defs>\n",
       "<symbol id=\"icon-database\" viewBox=\"0 0 32 32\">\n",
       "<path d=\"M16 0c-8.837 0-16 2.239-16 5v4c0 2.761 7.163 5 16 5s16-2.239 16-5v-4c0-2.761-7.163-5-16-5z\"></path>\n",
       "<path d=\"M16 17c-8.837 0-16-2.239-16-5v6c0 2.761 7.163 5 16 5s16-2.239 16-5v-6c0 2.761-7.163 5-16 5z\"></path>\n",
       "<path d=\"M16 26c-8.837 0-16-2.239-16-5v6c0 2.761 7.163 5 16 5s16-2.239 16-5v-6c0 2.761-7.163 5-16 5z\"></path>\n",
       "</symbol>\n",
       "<symbol id=\"icon-file-text2\" viewBox=\"0 0 32 32\">\n",
       "<path d=\"M28.681 7.159c-0.694-0.947-1.662-2.053-2.724-3.116s-2.169-2.030-3.116-2.724c-1.612-1.182-2.393-1.319-2.841-1.319h-15.5c-1.378 0-2.5 1.121-2.5 2.5v27c0 1.378 1.122 2.5 2.5 2.5h23c1.378 0 2.5-1.122 2.5-2.5v-19.5c0-0.448-0.137-1.23-1.319-2.841zM24.543 5.457c0.959 0.959 1.712 1.825 2.268 2.543h-4.811v-4.811c0.718 0.556 1.584 1.309 2.543 2.268zM28 29.5c0 0.271-0.229 0.5-0.5 0.5h-23c-0.271 0-0.5-0.229-0.5-0.5v-27c0-0.271 0.229-0.5 0.5-0.5 0 0 15.499-0 15.5 0v7c0 0.552 0.448 1 1 1h7v19.5z\"></path>\n",
       "<path d=\"M23 26h-14c-0.552 0-1-0.448-1-1s0.448-1 1-1h14c0.552 0 1 0.448 1 1s-0.448 1-1 1z\"></path>\n",
       "<path d=\"M23 22h-14c-0.552 0-1-0.448-1-1s0.448-1 1-1h14c0.552 0 1 0.448 1 1s-0.448 1-1 1z\"></path>\n",
       "<path d=\"M23 18h-14c-0.552 0-1-0.448-1-1s0.448-1 1-1h14c0.552 0 1 0.448 1 1s-0.448 1-1 1z\"></path>\n",
       "</symbol>\n",
       "</defs>\n",
       "</svg>\n",
       "<style>/* CSS stylesheet for displaying xarray objects in jupyterlab.\n",
       " *\n",
       " */\n",
       "\n",
       ":root {\n",
       "  --xr-font-color0: var(--jp-content-font-color0, rgba(0, 0, 0, 1));\n",
       "  --xr-font-color2: var(--jp-content-font-color2, rgba(0, 0, 0, 0.54));\n",
       "  --xr-font-color3: var(--jp-content-font-color3, rgba(0, 0, 0, 0.38));\n",
       "  --xr-border-color: var(--jp-border-color2, #e0e0e0);\n",
       "  --xr-disabled-color: var(--jp-layout-color3, #bdbdbd);\n",
       "  --xr-background-color: var(--jp-layout-color0, white);\n",
       "  --xr-background-color-row-even: var(--jp-layout-color1, white);\n",
       "  --xr-background-color-row-odd: var(--jp-layout-color2, #eeeeee);\n",
       "}\n",
       "\n",
       "html[theme=dark],\n",
       "body.vscode-dark {\n",
       "  --xr-font-color0: rgba(255, 255, 255, 1);\n",
       "  --xr-font-color2: rgba(255, 255, 255, 0.54);\n",
       "  --xr-font-color3: rgba(255, 255, 255, 0.38);\n",
       "  --xr-border-color: #1F1F1F;\n",
       "  --xr-disabled-color: #515151;\n",
       "  --xr-background-color: #111111;\n",
       "  --xr-background-color-row-even: #111111;\n",
       "  --xr-background-color-row-odd: #313131;\n",
       "}\n",
       "\n",
       ".xr-wrap {\n",
       "  display: block;\n",
       "  min-width: 300px;\n",
       "  max-width: 700px;\n",
       "}\n",
       "\n",
       ".xr-text-repr-fallback {\n",
       "  /* fallback to plain text repr when CSS is not injected (untrusted notebook) */\n",
       "  display: none;\n",
       "}\n",
       "\n",
       ".xr-header {\n",
       "  padding-top: 6px;\n",
       "  padding-bottom: 6px;\n",
       "  margin-bottom: 4px;\n",
       "  border-bottom: solid 1px var(--xr-border-color);\n",
       "}\n",
       "\n",
       ".xr-header > div,\n",
       ".xr-header > ul {\n",
       "  display: inline;\n",
       "  margin-top: 0;\n",
       "  margin-bottom: 0;\n",
       "}\n",
       "\n",
       ".xr-obj-type,\n",
       ".xr-array-name {\n",
       "  margin-left: 2px;\n",
       "  margin-right: 10px;\n",
       "}\n",
       "\n",
       ".xr-obj-type {\n",
       "  color: var(--xr-font-color2);\n",
       "}\n",
       "\n",
       ".xr-sections {\n",
       "  padding-left: 0 !important;\n",
       "  display: grid;\n",
       "  grid-template-columns: 150px auto auto 1fr 20px 20px;\n",
       "}\n",
       "\n",
       ".xr-section-item {\n",
       "  display: contents;\n",
       "}\n",
       "\n",
       ".xr-section-item input {\n",
       "  display: none;\n",
       "}\n",
       "\n",
       ".xr-section-item input + label {\n",
       "  color: var(--xr-disabled-color);\n",
       "}\n",
       "\n",
       ".xr-section-item input:enabled + label {\n",
       "  cursor: pointer;\n",
       "  color: var(--xr-font-color2);\n",
       "}\n",
       "\n",
       ".xr-section-item input:enabled + label:hover {\n",
       "  color: var(--xr-font-color0);\n",
       "}\n",
       "\n",
       ".xr-section-summary {\n",
       "  grid-column: 1;\n",
       "  color: var(--xr-font-color2);\n",
       "  font-weight: 500;\n",
       "}\n",
       "\n",
       ".xr-section-summary > span {\n",
       "  display: inline-block;\n",
       "  padding-left: 0.5em;\n",
       "}\n",
       "\n",
       ".xr-section-summary-in:disabled + label {\n",
       "  color: var(--xr-font-color2);\n",
       "}\n",
       "\n",
       ".xr-section-summary-in + label:before {\n",
       "  display: inline-block;\n",
       "  content: '►';\n",
       "  font-size: 11px;\n",
       "  width: 15px;\n",
       "  text-align: center;\n",
       "}\n",
       "\n",
       ".xr-section-summary-in:disabled + label:before {\n",
       "  color: var(--xr-disabled-color);\n",
       "}\n",
       "\n",
       ".xr-section-summary-in:checked + label:before {\n",
       "  content: '▼';\n",
       "}\n",
       "\n",
       ".xr-section-summary-in:checked + label > span {\n",
       "  display: none;\n",
       "}\n",
       "\n",
       ".xr-section-summary,\n",
       ".xr-section-inline-details {\n",
       "  padding-top: 4px;\n",
       "  padding-bottom: 4px;\n",
       "}\n",
       "\n",
       ".xr-section-inline-details {\n",
       "  grid-column: 2 / -1;\n",
       "}\n",
       "\n",
       ".xr-section-details {\n",
       "  display: none;\n",
       "  grid-column: 1 / -1;\n",
       "  margin-bottom: 5px;\n",
       "}\n",
       "\n",
       ".xr-section-summary-in:checked ~ .xr-section-details {\n",
       "  display: contents;\n",
       "}\n",
       "\n",
       ".xr-array-wrap {\n",
       "  grid-column: 1 / -1;\n",
       "  display: grid;\n",
       "  grid-template-columns: 20px auto;\n",
       "}\n",
       "\n",
       ".xr-array-wrap > label {\n",
       "  grid-column: 1;\n",
       "  vertical-align: top;\n",
       "}\n",
       "\n",
       ".xr-preview {\n",
       "  color: var(--xr-font-color3);\n",
       "}\n",
       "\n",
       ".xr-array-preview,\n",
       ".xr-array-data {\n",
       "  padding: 0 5px !important;\n",
       "  grid-column: 2;\n",
       "}\n",
       "\n",
       ".xr-array-data,\n",
       ".xr-array-in:checked ~ .xr-array-preview {\n",
       "  display: none;\n",
       "}\n",
       "\n",
       ".xr-array-in:checked ~ .xr-array-data,\n",
       ".xr-array-preview {\n",
       "  display: inline-block;\n",
       "}\n",
       "\n",
       ".xr-dim-list {\n",
       "  display: inline-block !important;\n",
       "  list-style: none;\n",
       "  padding: 0 !important;\n",
       "  margin: 0;\n",
       "}\n",
       "\n",
       ".xr-dim-list li {\n",
       "  display: inline-block;\n",
       "  padding: 0;\n",
       "  margin: 0;\n",
       "}\n",
       "\n",
       ".xr-dim-list:before {\n",
       "  content: '(';\n",
       "}\n",
       "\n",
       ".xr-dim-list:after {\n",
       "  content: ')';\n",
       "}\n",
       "\n",
       ".xr-dim-list li:not(:last-child):after {\n",
       "  content: ',';\n",
       "  padding-right: 5px;\n",
       "}\n",
       "\n",
       ".xr-has-index {\n",
       "  font-weight: bold;\n",
       "}\n",
       "\n",
       ".xr-var-list,\n",
       ".xr-var-item {\n",
       "  display: contents;\n",
       "}\n",
       "\n",
       ".xr-var-item > div,\n",
       ".xr-var-item label,\n",
       ".xr-var-item > .xr-var-name span {\n",
       "  background-color: var(--xr-background-color-row-even);\n",
       "  margin-bottom: 0;\n",
       "}\n",
       "\n",
       ".xr-var-item > .xr-var-name:hover span {\n",
       "  padding-right: 5px;\n",
       "}\n",
       "\n",
       ".xr-var-list > li:nth-child(odd) > div,\n",
       ".xr-var-list > li:nth-child(odd) > label,\n",
       ".xr-var-list > li:nth-child(odd) > .xr-var-name span {\n",
       "  background-color: var(--xr-background-color-row-odd);\n",
       "}\n",
       "\n",
       ".xr-var-name {\n",
       "  grid-column: 1;\n",
       "}\n",
       "\n",
       ".xr-var-dims {\n",
       "  grid-column: 2;\n",
       "}\n",
       "\n",
       ".xr-var-dtype {\n",
       "  grid-column: 3;\n",
       "  text-align: right;\n",
       "  color: var(--xr-font-color2);\n",
       "}\n",
       "\n",
       ".xr-var-preview {\n",
       "  grid-column: 4;\n",
       "}\n",
       "\n",
       ".xr-var-name,\n",
       ".xr-var-dims,\n",
       ".xr-var-dtype,\n",
       ".xr-preview,\n",
       ".xr-attrs dt {\n",
       "  white-space: nowrap;\n",
       "  overflow: hidden;\n",
       "  text-overflow: ellipsis;\n",
       "  padding-right: 10px;\n",
       "}\n",
       "\n",
       ".xr-var-name:hover,\n",
       ".xr-var-dims:hover,\n",
       ".xr-var-dtype:hover,\n",
       ".xr-attrs dt:hover {\n",
       "  overflow: visible;\n",
       "  width: auto;\n",
       "  z-index: 1;\n",
       "}\n",
       "\n",
       ".xr-var-attrs,\n",
       ".xr-var-data {\n",
       "  display: none;\n",
       "  background-color: var(--xr-background-color) !important;\n",
       "  padding-bottom: 5px !important;\n",
       "}\n",
       "\n",
       ".xr-var-attrs-in:checked ~ .xr-var-attrs,\n",
       ".xr-var-data-in:checked ~ .xr-var-data {\n",
       "  display: block;\n",
       "}\n",
       "\n",
       ".xr-var-data > table {\n",
       "  float: right;\n",
       "}\n",
       "\n",
       ".xr-var-name span,\n",
       ".xr-var-data,\n",
       ".xr-attrs {\n",
       "  padding-left: 25px !important;\n",
       "}\n",
       "\n",
       ".xr-attrs,\n",
       ".xr-var-attrs,\n",
       ".xr-var-data {\n",
       "  grid-column: 1 / -1;\n",
       "}\n",
       "\n",
       "dl.xr-attrs {\n",
       "  padding: 0;\n",
       "  margin: 0;\n",
       "  display: grid;\n",
       "  grid-template-columns: 125px auto;\n",
       "}\n",
       "\n",
       ".xr-attrs dt,\n",
       ".xr-attrs dd {\n",
       "  padding: 0;\n",
       "  margin: 0;\n",
       "  float: left;\n",
       "  padding-right: 10px;\n",
       "  width: auto;\n",
       "}\n",
       "\n",
       ".xr-attrs dt {\n",
       "  font-weight: normal;\n",
       "  grid-column: 1;\n",
       "}\n",
       "\n",
       ".xr-attrs dt:hover span {\n",
       "  display: inline-block;\n",
       "  background: var(--xr-background-color);\n",
       "  padding-right: 10px;\n",
       "}\n",
       "\n",
       ".xr-attrs dd {\n",
       "  grid-column: 2;\n",
       "  white-space: pre-wrap;\n",
       "  word-break: break-all;\n",
       "}\n",
       "\n",
       ".xr-icon-database,\n",
       ".xr-icon-file-text2 {\n",
       "  display: inline-block;\n",
       "  vertical-align: middle;\n",
       "  width: 1em;\n",
       "  height: 1.5em !important;\n",
       "  stroke-width: 0;\n",
       "  stroke: currentColor;\n",
       "  fill: currentColor;\n",
       "}\n",
       "</style><pre class='xr-text-repr-fallback'>&lt;xarray.Dataset&gt;\n",
       "Dimensions:       (time: 19, x: 1799, y: 1059)\n",
       "Coordinates:\n",
       "    longitude     (y, x) float64 ...\n",
       "    latitude      (y, x) float64 ...\n",
       "  * time          (time) datetime64[ns] 2016-04-13T03:00:00 ... 2016-04-13T22...\n",
       "Dimensions without coordinates: x, y\n",
       "Data variables:\n",
       "    ref           (time, y, x) float32 ...\n",
       "    cape          (time, y, x) float32 ...\n",
       "    ltng          (time, y, x) float32 ...\n",
       "    accum_precip  (time, y, x) float32 ...</pre><div class='xr-wrap' hidden><div class='xr-header'><div class='xr-obj-type'>xarray.Dataset</div></div><ul class='xr-sections'><li class='xr-section-item'><input id='section-6bbd9785-4a0c-4831-952f-b92c62acd192' class='xr-section-summary-in' type='checkbox' disabled ><label for='section-6bbd9785-4a0c-4831-952f-b92c62acd192' class='xr-section-summary'  title='Expand/collapse section'>Dimensions:</label><div class='xr-section-inline-details'><ul class='xr-dim-list'><li><span class='xr-has-index'>time</span>: 19</li><li><span>x</span>: 1799</li><li><span>y</span>: 1059</li></ul></div><div class='xr-section-details'></div></li><li class='xr-section-item'><input id='section-9725c94b-09ad-4ce0-acc4-4e857e491790' class='xr-section-summary-in' type='checkbox'  checked><label for='section-9725c94b-09ad-4ce0-acc4-4e857e491790' class='xr-section-summary' >Coordinates: <span>(3)</span></label><div class='xr-section-inline-details'></div><div class='xr-section-details'><ul class='xr-var-list'><li class='xr-var-item'><div class='xr-var-name'><span>longitude</span></div><div class='xr-var-dims'>(y, x)</div><div class='xr-var-dtype'>float64</div><div class='xr-var-preview xr-preview'>...</div><input id='attrs-824039b3-cf7e-4453-8f70-708193c35d6e' class='xr-var-attrs-in' type='checkbox' disabled><label for='attrs-824039b3-cf7e-4453-8f70-708193c35d6e' title='Show/Hide attributes'><svg class='icon xr-icon-file-text2'><use xlink:href='#icon-file-text2'></use></svg></label><input id='data-5a942852-ea8f-41ad-8a44-78b99619c220' class='xr-var-data-in' type='checkbox'><label for='data-5a942852-ea8f-41ad-8a44-78b99619c220' title='Show/Hide data repr'><svg class='icon xr-icon-database'><use xlink:href='#icon-database'></use></svg></label><div class='xr-var-attrs'><dl class='xr-attrs'></dl></div><div class='xr-var-data'><pre>[1905141 values with dtype=float64]</pre></div></li><li class='xr-var-item'><div class='xr-var-name'><span>latitude</span></div><div class='xr-var-dims'>(y, x)</div><div class='xr-var-dtype'>float64</div><div class='xr-var-preview xr-preview'>...</div><input id='attrs-b62d68ea-fc26-428a-a379-6613f6535b67' class='xr-var-attrs-in' type='checkbox' disabled><label for='attrs-b62d68ea-fc26-428a-a379-6613f6535b67' title='Show/Hide attributes'><svg class='icon xr-icon-file-text2'><use xlink:href='#icon-file-text2'></use></svg></label><input id='data-0c18a8f9-12bc-469a-b307-c0808d96f23c' class='xr-var-data-in' type='checkbox'><label for='data-0c18a8f9-12bc-469a-b307-c0808d96f23c' title='Show/Hide data repr'><svg class='icon xr-icon-database'><use xlink:href='#icon-database'></use></svg></label><div class='xr-var-attrs'><dl class='xr-attrs'></dl></div><div class='xr-var-data'><pre>[1905141 values with dtype=float64]</pre></div></li><li class='xr-var-item'><div class='xr-var-name'><span class='xr-has-index'>time</span></div><div class='xr-var-dims'>(time)</div><div class='xr-var-dtype'>datetime64[ns]</div><div class='xr-var-preview xr-preview'>2016-04-13T03:00:00 ... 2016-04-...</div><input id='attrs-56ad5fb2-f097-4421-b472-d87a3bdde85d' class='xr-var-attrs-in' type='checkbox' disabled><label for='attrs-56ad5fb2-f097-4421-b472-d87a3bdde85d' title='Show/Hide attributes'><svg class='icon xr-icon-file-text2'><use xlink:href='#icon-file-text2'></use></svg></label><input id='data-e63db6cd-6492-47b8-9ee0-aeaf23dae7be' class='xr-var-data-in' type='checkbox'><label for='data-e63db6cd-6492-47b8-9ee0-aeaf23dae7be' title='Show/Hide data repr'><svg class='icon xr-icon-database'><use xlink:href='#icon-database'></use></svg></label><div class='xr-var-attrs'><dl class='xr-attrs'></dl></div><div class='xr-var-data'><pre>array([&#x27;2016-04-13T03:00:00.000000000&#x27;, &#x27;2016-04-13T04:00:00.000000000&#x27;,\n",
       "       &#x27;2016-04-13T05:00:00.000000000&#x27;, &#x27;2016-04-13T06:00:00.000000000&#x27;,\n",
       "       &#x27;2016-04-13T07:00:00.000000000&#x27;, &#x27;2016-04-13T08:00:00.000000000&#x27;,\n",
       "       &#x27;2016-04-13T09:00:00.000000000&#x27;, &#x27;2016-04-13T10:00:00.000000000&#x27;,\n",
       "       &#x27;2016-04-13T11:00:00.000000000&#x27;, &#x27;2016-04-13T12:00:00.000000000&#x27;,\n",
       "       &#x27;2016-04-13T13:00:00.000000000&#x27;, &#x27;2016-04-13T14:00:00.000000000&#x27;,\n",
       "       &#x27;2016-04-13T15:00:00.000000000&#x27;, &#x27;2016-04-13T16:00:00.000000000&#x27;,\n",
       "       &#x27;2016-04-13T17:00:00.000000000&#x27;, &#x27;2016-04-13T18:00:00.000000000&#x27;,\n",
       "       &#x27;2016-04-13T19:00:00.000000000&#x27;, &#x27;2016-04-13T21:00:00.000000000&#x27;,\n",
       "       &#x27;2016-04-13T22:00:00.000000000&#x27;], dtype=&#x27;datetime64[ns]&#x27;)</pre></div></li></ul></div></li><li class='xr-section-item'><input id='section-a93fe747-275a-4d02-b717-68ea3a783c63' class='xr-section-summary-in' type='checkbox'  checked><label for='section-a93fe747-275a-4d02-b717-68ea3a783c63' class='xr-section-summary' >Data variables: <span>(4)</span></label><div class='xr-section-inline-details'></div><div class='xr-section-details'><ul class='xr-var-list'><li class='xr-var-item'><div class='xr-var-name'><span>ref</span></div><div class='xr-var-dims'>(time, y, x)</div><div class='xr-var-dtype'>float32</div><div class='xr-var-preview xr-preview'>...</div><input id='attrs-aa1e62a5-ac87-4cf9-baa6-ea7a8a1a8e41' class='xr-var-attrs-in' type='checkbox' disabled><label for='attrs-aa1e62a5-ac87-4cf9-baa6-ea7a8a1a8e41' title='Show/Hide attributes'><svg class='icon xr-icon-file-text2'><use xlink:href='#icon-file-text2'></use></svg></label><input id='data-c8ec72fe-8ea0-4f5c-8978-dc1cf0a8987e' class='xr-var-data-in' type='checkbox'><label for='data-c8ec72fe-8ea0-4f5c-8978-dc1cf0a8987e' title='Show/Hide data repr'><svg class='icon xr-icon-database'><use xlink:href='#icon-database'></use></svg></label><div class='xr-var-attrs'><dl class='xr-attrs'></dl></div><div class='xr-var-data'><pre>[36197679 values with dtype=float32]</pre></div></li><li class='xr-var-item'><div class='xr-var-name'><span>cape</span></div><div class='xr-var-dims'>(time, y, x)</div><div class='xr-var-dtype'>float32</div><div class='xr-var-preview xr-preview'>...</div><input id='attrs-9fc11079-b6ae-466d-ba73-f901beecc9f2' class='xr-var-attrs-in' type='checkbox' disabled><label for='attrs-9fc11079-b6ae-466d-ba73-f901beecc9f2' title='Show/Hide attributes'><svg class='icon xr-icon-file-text2'><use xlink:href='#icon-file-text2'></use></svg></label><input id='data-883222f3-98dd-4759-a0f1-e70751a709be' class='xr-var-data-in' type='checkbox'><label for='data-883222f3-98dd-4759-a0f1-e70751a709be' title='Show/Hide data repr'><svg class='icon xr-icon-database'><use xlink:href='#icon-database'></use></svg></label><div class='xr-var-attrs'><dl class='xr-attrs'></dl></div><div class='xr-var-data'><pre>[36197679 values with dtype=float32]</pre></div></li><li class='xr-var-item'><div class='xr-var-name'><span>ltng</span></div><div class='xr-var-dims'>(time, y, x)</div><div class='xr-var-dtype'>float32</div><div class='xr-var-preview xr-preview'>...</div><input id='attrs-8e19b295-0322-464b-a7c7-92e9945777f7' class='xr-var-attrs-in' type='checkbox' disabled><label for='attrs-8e19b295-0322-464b-a7c7-92e9945777f7' title='Show/Hide attributes'><svg class='icon xr-icon-file-text2'><use xlink:href='#icon-file-text2'></use></svg></label><input id='data-2ab2734b-65d8-4e30-9a77-ea88b98fb278' class='xr-var-data-in' type='checkbox'><label for='data-2ab2734b-65d8-4e30-9a77-ea88b98fb278' title='Show/Hide data repr'><svg class='icon xr-icon-database'><use xlink:href='#icon-database'></use></svg></label><div class='xr-var-attrs'><dl class='xr-attrs'></dl></div><div class='xr-var-data'><pre>[36197679 values with dtype=float32]</pre></div></li><li class='xr-var-item'><div class='xr-var-name'><span>accum_precip</span></div><div class='xr-var-dims'>(time, y, x)</div><div class='xr-var-dtype'>float32</div><div class='xr-var-preview xr-preview'>...</div><input id='attrs-81024862-a573-4ef3-813d-e2b4b494be17' class='xr-var-attrs-in' type='checkbox' disabled><label for='attrs-81024862-a573-4ef3-813d-e2b4b494be17' title='Show/Hide attributes'><svg class='icon xr-icon-file-text2'><use xlink:href='#icon-file-text2'></use></svg></label><input id='data-a5699df3-b49e-432c-a4c3-be33d2069b93' class='xr-var-data-in' type='checkbox'><label for='data-a5699df3-b49e-432c-a4c3-be33d2069b93' title='Show/Hide data repr'><svg class='icon xr-icon-database'><use xlink:href='#icon-database'></use></svg></label><div class='xr-var-attrs'><dl class='xr-attrs'></dl></div><div class='xr-var-data'><pre>[36197679 values with dtype=float32]</pre></div></li></ul></div></li><li class='xr-section-item'><input id='section-61551855-5101-4be4-b867-22e33c8ae778' class='xr-section-summary-in' type='checkbox' disabled ><label for='section-61551855-5101-4be4-b867-22e33c8ae778' class='xr-section-summary'  title='Expand/collapse section'>Attributes: <span>(0)</span></label><div class='xr-section-inline-details'></div><div class='xr-section-details'><dl class='xr-attrs'></dl></div></li></ul></div></div>"
      ],
      "text/plain": [
       "<xarray.Dataset>\n",
       "Dimensions:       (time: 19, x: 1799, y: 1059)\n",
       "Coordinates:\n",
       "    longitude     (y, x) float64 ...\n",
       "    latitude      (y, x) float64 ...\n",
       "  * time          (time) datetime64[ns] 2016-04-13T03:00:00 ... 2016-04-13T22...\n",
       "Dimensions without coordinates: x, y\n",
       "Data variables:\n",
       "    ref           (time, y, x) float32 ...\n",
       "    cape          (time, y, x) float32 ...\n",
       "    ltng          (time, y, x) float32 ...\n",
       "    accum_precip  (time, y, x) float32 ..."
      ]
     },
     "execution_count": 4,
     "metadata": {},
     "output_type": "execute_result"
    }
   ],
   "source": [
    "input_ds"
   ]
  },
  {
   "cell_type": "code",
   "execution_count": 3,
   "id": "bb48b9aa-13e4-4e24-91d8-bd7078c7e949",
   "metadata": {},
   "outputs": [
    {
     "data": {
      "text/plain": [
       "(4, 19, 1059, 1799)"
      ]
     },
     "execution_count": 3,
     "metadata": {},
     "output_type": "execute_result"
    }
   ],
   "source": [
    "input_array = np.stack([input_ds.ref.values,input_ds.cape.values,input_ds.accum_precip.values,input_ds.ltng.values])\n",
    "input_array.shape"
   ]
  },
  {
   "cell_type": "code",
   "execution_count": 17,
   "id": "ac6beb9b-a1b3-4aa8-bba5-f4f748294ece",
   "metadata": {},
   "outputs": [
    {
     "ename": "AttributeError",
     "evalue": "'Dataset' object has no attribute 'shape'",
     "output_type": "error",
     "traceback": [
      "\u001b[1;31m---------------------------------------------------------------------------\u001b[0m",
      "\u001b[1;31mAttributeError\u001b[0m                            Traceback (most recent call last)",
      "\u001b[1;32m<ipython-input-17-3138c05c27e2>\u001b[0m in \u001b[0;36m<module>\u001b[1;34m\u001b[0m\n\u001b[1;32m----> 1\u001b[1;33m \u001b[0moutput_ds\u001b[0m\u001b[1;33m.\u001b[0m\u001b[0mshape\u001b[0m\u001b[1;33m\u001b[0m\u001b[1;33m\u001b[0m\u001b[0m\n\u001b[0m",
      "\u001b[1;32m~\\anaconda3\\envs\\tf-n\\lib\\site-packages\\xarray\\core\\common.py\u001b[0m in \u001b[0;36m__getattr__\u001b[1;34m(self, name)\u001b[0m\n\u001b[0;32m    237\u001b[0m                 \u001b[1;32mwith\u001b[0m \u001b[0msuppress\u001b[0m\u001b[1;33m(\u001b[0m\u001b[0mKeyError\u001b[0m\u001b[1;33m)\u001b[0m\u001b[1;33m:\u001b[0m\u001b[1;33m\u001b[0m\u001b[1;33m\u001b[0m\u001b[0m\n\u001b[0;32m    238\u001b[0m                     \u001b[1;32mreturn\u001b[0m \u001b[0msource\u001b[0m\u001b[1;33m[\u001b[0m\u001b[0mname\u001b[0m\u001b[1;33m]\u001b[0m\u001b[1;33m\u001b[0m\u001b[1;33m\u001b[0m\u001b[0m\n\u001b[1;32m--> 239\u001b[1;33m         raise AttributeError(\n\u001b[0m\u001b[0;32m    240\u001b[0m             \u001b[1;34m\"{!r} object has no attribute {!r}\"\u001b[0m\u001b[1;33m.\u001b[0m\u001b[0mformat\u001b[0m\u001b[1;33m(\u001b[0m\u001b[0mtype\u001b[0m\u001b[1;33m(\u001b[0m\u001b[0mself\u001b[0m\u001b[1;33m)\u001b[0m\u001b[1;33m.\u001b[0m\u001b[0m__name__\u001b[0m\u001b[1;33m,\u001b[0m \u001b[0mname\u001b[0m\u001b[1;33m)\u001b[0m\u001b[1;33m\u001b[0m\u001b[1;33m\u001b[0m\u001b[0m\n\u001b[0;32m    241\u001b[0m         )\n",
      "\u001b[1;31mAttributeError\u001b[0m: 'Dataset' object has no attribute 'shape'"
     ]
    }
   ],
   "source": []
  },
  {
   "cell_type": "code",
   "execution_count": 4,
   "id": "993500f0-6a49-46b0-9c85-eec3a9fa05a7",
   "metadata": {},
   "outputs": [],
   "source": [
    "#Setting Training, Validation, Testing data\n",
    "\n",
    "X_training = input_array[:,:4,200:712,600:1112]\n",
    "X_validation = input_array[:,4:6,200:712,600:1112]\n",
    "X_testing = input_array[:,6:,200:712,600:1112]\n",
    "\n",
    "Y_training = output_ds.unknown[4:,200:712,600:1112].values\n",
    "Y_validation = output_ds.unknown[4:,200:712,600:1112].values\n",
    "Y_testing = output_ds.unknown[6:,200:712,600:1112].values\n",
    "\n",
    "X_total = input_array[:,0:6,200:712,600:1112]\n",
    "Y_total = output_ds.unknown[:,200:712,600:1112].values"
   ]
  },
  {
   "cell_type": "code",
   "execution_count": 5,
   "id": "f2991c64-8a33-4c01-b72d-8b1e9503551c",
   "metadata": {},
   "outputs": [
    {
     "data": {
      "text/plain": [
       "(4, 6, 512, 512)"
      ]
     },
     "execution_count": 5,
     "metadata": {},
     "output_type": "execute_result"
    }
   ],
   "source": [
    "X_total.shape"
   ]
  },
  {
   "cell_type": "code",
   "execution_count": 7,
   "id": "a4501a52-c672-4e89-bf6e-1d75972d41b9",
   "metadata": {},
   "outputs": [
    {
     "data": {
      "text/plain": [
       "(4, 512, 512, 4)"
      ]
     },
     "execution_count": 7,
     "metadata": {},
     "output_type": "execute_result"
    }
   ],
   "source": [
    "X_training.shape"
   ]
  },
  {
   "cell_type": "code",
   "execution_count": 6,
   "id": "5e2714a6-1d21-43d7-96e3-eeb79997658c",
   "metadata": {},
   "outputs": [
    {
     "data": {
      "text/plain": [
       "(0, 512, 512)"
      ]
     },
     "execution_count": 6,
     "metadata": {},
     "output_type": "execute_result"
    }
   ],
   "source": [
    "Y_testing.shape"
   ]
  },
  {
   "cell_type": "code",
   "execution_count": 12,
   "id": "eef520f1-1b8b-437b-891a-93f670ef3777",
   "metadata": {},
   "outputs": [
    {
     "data": {
      "text/plain": [
       "<matplotlib.collections.QuadMesh at 0x1d4abc91f40>"
      ]
     },
     "execution_count": 12,
     "metadata": {},
     "output_type": "execute_result"
    },
    {
     "data": {
      "image/png": "[encoded data removed]",
      "text/plain": [
       "<Figure size 432x288 with 1 Axes>"
      ]
     },
     "metadata": {
      "needs_background": "light"
     },
     "output_type": "display_data"
    }
   ],
   "source": [
    "#True output:\n",
    "plt.pcolormesh(Y_total[5,:,:])"
   ]
  },
  {
   "cell_type": "code",
   "execution_count": 5,
   "id": "4eeed4f1-85b6-48e3-a920-b303888b5ccc",
   "metadata": {},
   "outputs": [
    {
     "data": {
      "text/plain": [
       "(13, 512, 512, 4)"
      ]
     },
     "execution_count": 5,
     "metadata": {},
     "output_type": "execute_result"
    }
   ],
   "source": [
    "X_training = np.swapaxes(X_training,0,1)\n",
    "X_training = np.swapaxes(X_training,1,3)\n",
    "X_validation = np.swapaxes(X_validation,0,1)\n",
    "X_validation = np.swapaxes(X_validation,1,3)\n",
    "X_testing = np.swapaxes(X_testing,0,1)\n",
    "X_testing = np.swapaxes(X_testing,1,3)\n",
    "X_total = np.swapaxes(X_total,0,1)\n",
    "X_total = np.swapaxes(X_total,1,3)\n",
    "X_testing.shape"
   ]
  },
  {
   "cell_type": "code",
   "execution_count": 6,
   "id": "764afbb1-cdee-4f49-b3a5-e2c140fbefe1",
   "metadata": {},
   "outputs": [
    {
     "data": {
      "text/plain": [
       "(0, 512, 512)"
      ]
     },
     "execution_count": 6,
     "metadata": {},
     "output_type": "execute_result"
    }
   ],
   "source": [
    "Y_training = np.swapaxes(Y_training,1,2)\n",
    "Y_validation = np.swapaxes(Y_validation,1,2)\n",
    "Y_testing = np.swapaxes(Y_testing,1,2)\n",
    "Y_total = np.swapaxes(Y_total,1,2)\n",
    "Y_testing.shape"
   ]
  },
  {
   "cell_type": "code",
   "execution_count": 9,
   "id": "71f9a34d-bd6c-4b75-af13-7b2355b0c46b",
   "metadata": {},
   "outputs": [
    {
     "data": {
      "text/plain": [
       "-1.0"
      ]
     },
     "execution_count": 9,
     "metadata": {},
     "output_type": "execute_result"
    }
   ],
   "source": [
    "Y_total.max()"
   ]
  },
  {
   "cell_type": "markdown",
   "id": "cfb05ba3-edff-4088-81b1-910733014ecb",
   "metadata": {},
   "source": [
    "## Making Unet"
   ]
  },
  {
   "cell_type": "code",
   "execution_count": 7,
   "id": "71f86da5-9ba4-4ced-ac8b-8cca5336cad4",
   "metadata": {},
   "outputs": [],
   "source": [
    "#making a basic unet\n",
    "# image_size -- length by width by channels used to predict the outcome (like CAPE, refc, ...), time will be batch-size which comes in in the generator\n",
    "# filter_num --  ex: [32,64,128,256,512,1024], but I think these will be proportional to original image size\n",
    "# num_labels -- number of targets we are trying to predict = 1\n",
    "# stack_num_down -- number of layers we go down (he did 5)\n",
    "# stack_num_up -- number of layers we go up (he did 5)\n",
    "# activation -- activation function in the hidden layers\n",
    "# output_activation -- activation function for the output layer\n",
    "# batch_norm -- scales arrays to a common scale, we usually want this on to keep units from having too much of an effect\n",
    "# pool -- how do you want to pool the data during downscaling? True = max\n",
    "# unpool -- how do you want to interpolate during upscaling? True = ??\n",
    "# name -- name for the layers when summary function is called\n",
    "\n",
    "model = models.unet_2d((512,512,4),\n",
    "                       filter_num = [64,128], #[112,224,448,896,1792],\n",
    "                       n_labels = 1,\n",
    "                       stack_num_down = 1,\n",
    "                       stack_num_up = 1,\n",
    "                       activation = 'LeakyReLU',\n",
    "                       output_activation = 'ReLU',\n",
    "                       batch_norm = True,\n",
    "                       pool = True,\n",
    "                       unpool = True,\n",
    "                       name = 'unet')\n"
   ]
  },
  {
   "cell_type": "code",
   "execution_count": 8,
   "id": "9c82c6c4-a056-4514-9a65-9da56023f47f",
   "metadata": {},
   "outputs": [],
   "source": [
    "#compiling a unet\n",
    "#unets use gradient descent\n",
    "#Adam is an optimizer for the model which is a gradient descent replacemtne\n",
    "# learning_rate - how fast does the model learn? Too high, the model will finish training before it's actually learned, too slow is inefficient\n",
    "# start learning with 10^-4, 10^-3, 10^-5\n",
    "# loss function measure the error between the predicted value and the truth value. Error should go down durring training\n",
    "# metrics could be AUC or accuracy - Andrew doesn't worry about this one. Doesn't affect the model, just affects the model output\n",
    "`\n",
    "learning_rate = 1e-4\n",
    "loss_function = keras.losses.MeanSquaredError()     #loss_function = 'tversky' # could be 'dice', 'tversky', 'categorical_crossentropy', probably more too\n",
    "\n",
    "adam = Adam(learning_rate=learning_rate)\n",
    "model.compile(loss=loss_function, optimizer=adam, metrics=tf.keras.metrics.Accuracy()) #Accurracy"
   ]
  },
  {
   "cell_type": "code",
   "execution_count": 11,
   "id": "131de24b-49f9-478a-94b7-7ebfea0ea24d",
   "metadata": {},
   "outputs": [
    {
     "name": "stdout",
     "output_type": "stream",
     "text": [
      "Model: \"unet_model\"\n",
      "__________________________________________________________________________________________________\n",
      "Layer (type)                    Output Shape         Param #     Connected to                     \n",
      "==================================================================================================\n",
      "input_1 (InputLayer)            [(None, 512, 512, 4) 0                                            \n",
      "__________________________________________________________________________________________________\n",
      "unet_down0_0 (Conv2D)           (None, 512, 512, 64) 2304        input_1[0][0]                    \n",
      "__________________________________________________________________________________________________\n",
      "unet_down0_0_bn (BatchNormaliza (None, 512, 512, 64) 256         unet_down0_0[0][0]               \n",
      "__________________________________________________________________________________________________\n",
      "unet_down0_0_activation (LeakyR (None, 512, 512, 64) 0           unet_down0_0_bn[0][0]            \n",
      "__________________________________________________________________________________________________\n",
      "unet_down1_encode_maxpool (MaxP (None, 256, 256, 64) 0           unet_down0_0_activation[0][0]    \n",
      "__________________________________________________________________________________________________\n",
      "unet_down1_conv_0 (Conv2D)      (None, 256, 256, 128 73728       unet_down1_encode_maxpool[0][0]  \n",
      "__________________________________________________________________________________________________\n",
      "unet_down1_conv_0_bn (BatchNorm (None, 256, 256, 128 512         unet_down1_conv_0[0][0]          \n",
      "__________________________________________________________________________________________________\n",
      "unet_down1_conv_0_activation (L (None, 256, 256, 128 0           unet_down1_conv_0_bn[0][0]       \n",
      "__________________________________________________________________________________________________\n",
      "unet_up0_decode_unpool (UpSampl (None, 512, 512, 128 0           unet_down1_conv_0_activation[0][0\n",
      "__________________________________________________________________________________________________\n",
      "unet_up0_conv_before_concat_0 ( (None, 512, 512, 64) 73728       unet_up0_decode_unpool[0][0]     \n",
      "__________________________________________________________________________________________________\n",
      "unet_up0_conv_before_concat_0_b (None, 512, 512, 64) 256         unet_up0_conv_before_concat_0[0][\n",
      "__________________________________________________________________________________________________\n",
      "unet_up0_conv_before_concat_0_a (None, 512, 512, 64) 0           unet_up0_conv_before_concat_0_bn[\n",
      "__________________________________________________________________________________________________\n",
      "unet_up0_concat (Concatenate)   (None, 512, 512, 128 0           unet_up0_conv_before_concat_0_act\n",
      "                                                                 unet_down0_0_activation[0][0]    \n",
      "__________________________________________________________________________________________________\n",
      "unet_up0_conv_after_concat_0 (C (None, 512, 512, 64) 73728       unet_up0_concat[0][0]            \n",
      "__________________________________________________________________________________________________\n",
      "unet_up0_conv_after_concat_0_bn (None, 512, 512, 64) 256         unet_up0_conv_after_concat_0[0][0\n",
      "__________________________________________________________________________________________________\n",
      "unet_up0_conv_after_concat_0_ac (None, 512, 512, 64) 0           unet_up0_conv_after_concat_0_bn[0\n",
      "__________________________________________________________________________________________________\n",
      "unet_output (Conv2D)            (None, 512, 512, 1)  65          unet_up0_conv_after_concat_0_acti\n",
      "__________________________________________________________________________________________________\n",
      "unet_output_activation (ReLU)   (None, 512, 512, 1)  0           unet_output[0][0]                \n",
      "==================================================================================================\n",
      "Total params: 224,833\n",
      "Trainable params: 224,193\n",
      "Non-trainable params: 640\n",
      "__________________________________________________________________________________________________\n"
     ]
    }
   ],
   "source": [
    "#print out the model\n",
    "model.summary()\n",
    "\n",
    "#the first output dimension will say \"None\" because it's the batch size and it's not declared"
   ]
  },
  {
   "cell_type": "code",
   "execution_count": 10,
   "id": "aae4a981-b2e8-42b7-a561-0c8eb12148aa",
   "metadata": {},
   "outputs": [
    {
     "name": "stdout",
     "output_type": "stream",
     "text": [
      "Epoch 1/20\n",
      "1/1 - 139s - loss: 2.0966 - accuracy: 0.0000e+00\n",
      "\n",
      "Epoch 00001: loss improved from inf to 2.09659, saving model to unet_test_data\\model_test\n",
      "INFO:tensorflow:Assets written to: unet_test_data\\model_test\\assets\n",
      "Epoch 2/20\n",
      "1/1 - 119s - loss: 1.3369 - accuracy: 0.0000e+00\n",
      "\n",
      "Epoch 00002: loss improved from 2.09659 to 1.33693, saving model to unet_test_data\\model_test\n",
      "INFO:tensorflow:Assets written to: unet_test_data\\model_test\\assets\n",
      "Epoch 3/20\n",
      "1/1 - 129s - loss: 1.1022 - accuracy: 0.0000e+00\n",
      "\n",
      "Epoch 00003: loss improved from 1.33693 to 1.10221, saving model to unet_test_data\\model_test\n",
      "INFO:tensorflow:Assets written to: unet_test_data\\model_test\\assets\n",
      "Epoch 4/20\n",
      "1/1 - 116s - loss: 1.1569 - accuracy: 0.0000e+00\n",
      "\n",
      "Epoch 00004: loss did not improve from 1.10221\n",
      "Epoch 5/20\n",
      "1/1 - 119s - loss: 1.1221 - accuracy: 0.0000e+00\n",
      "\n",
      "Epoch 00005: loss did not improve from 1.10221\n",
      "Epoch 6/20\n",
      "1/1 - 126s - loss: 1.0457 - accuracy: 0.0000e+00\n",
      "\n",
      "Epoch 00006: loss improved from 1.10221 to 1.04573, saving model to unet_test_data\\model_test\n",
      "INFO:tensorflow:Assets written to: unet_test_data\\model_test\\assets\n",
      "Epoch 7/20\n",
      "1/1 - 137s - loss: 1.0371 - accuracy: 0.0000e+00\n",
      "\n",
      "Epoch 00007: loss improved from 1.04573 to 1.03711, saving model to unet_test_data\\model_test\n",
      "INFO:tensorflow:Assets written to: unet_test_data\\model_test\\assets\n",
      "Epoch 8/20\n",
      "1/1 - 120s - loss: 1.0306 - accuracy: 0.0000e+00\n",
      "\n",
      "Epoch 00008: loss improved from 1.03711 to 1.03064, saving model to unet_test_data\\model_test\n",
      "INFO:tensorflow:Assets written to: unet_test_data\\model_test\\assets\n",
      "Epoch 9/20\n",
      "1/1 - 93s - loss: 1.0265 - accuracy: 0.0000e+00\n",
      "\n",
      "Epoch 00009: loss improved from 1.03064 to 1.02654, saving model to unet_test_data\\model_test\n",
      "INFO:tensorflow:Assets written to: unet_test_data\\model_test\\assets\n",
      "Epoch 10/20\n",
      "1/1 - 114s - loss: 1.0221 - accuracy: 0.0000e+00\n",
      "\n",
      "Epoch 00010: loss improved from 1.02654 to 1.02206, saving model to unet_test_data\\model_test\n",
      "INFO:tensorflow:Assets written to: unet_test_data\\model_test\\assets\n",
      "Epoch 11/20\n",
      "1/1 - 104s - loss: 1.0188 - accuracy: 0.0000e+00\n",
      "\n",
      "Epoch 00011: loss improved from 1.02206 to 1.01883, saving model to unet_test_data\\model_test\n",
      "INFO:tensorflow:Assets written to: unet_test_data\\model_test\\assets\n",
      "Epoch 12/20\n",
      "1/1 - 90s - loss: 1.0162 - accuracy: 0.0000e+00\n",
      "\n",
      "Epoch 00012: loss improved from 1.01883 to 1.01616, saving model to unet_test_data\\model_test\n",
      "INFO:tensorflow:Assets written to: unet_test_data\\model_test\\assets\n",
      "Epoch 13/20\n",
      "1/1 - 96s - loss: 1.0140 - accuracy: 0.0000e+00\n",
      "\n",
      "Epoch 00013: loss improved from 1.01616 to 1.01400, saving model to unet_test_data\\model_test\n",
      "INFO:tensorflow:Assets written to: unet_test_data\\model_test\\assets\n",
      "Epoch 14/20\n",
      "1/1 - 86s - loss: 1.0123 - accuracy: 0.0000e+00\n",
      "\n",
      "Epoch 00014: loss improved from 1.01400 to 1.01232, saving model to unet_test_data\\model_test\n",
      "INFO:tensorflow:Assets written to: unet_test_data\\model_test\\assets\n",
      "Epoch 15/20\n",
      "1/1 - 101s - loss: 1.0111 - accuracy: 0.0000e+00\n",
      "\n",
      "Epoch 00015: loss improved from 1.01232 to 1.01105, saving model to unet_test_data\\model_test\n",
      "INFO:tensorflow:Assets written to: unet_test_data\\model_test\\assets\n",
      "Epoch 16/20\n",
      "1/1 - 96s - loss: 1.0097 - accuracy: 0.0000e+00\n",
      "\n",
      "Epoch 00016: loss improved from 1.01105 to 1.00974, saving model to unet_test_data\\model_test\n",
      "INFO:tensorflow:Assets written to: unet_test_data\\model_test\\assets\n",
      "Epoch 17/20\n",
      "1/1 - 105s - loss: 1.0088 - accuracy: 0.0000e+00\n",
      "\n",
      "Epoch 00017: loss improved from 1.00974 to 1.00877, saving model to unet_test_data\\model_test\n",
      "INFO:tensorflow:Assets written to: unet_test_data\\model_test\\assets\n",
      "Epoch 18/20\n",
      "1/1 - 88s - loss: 1.0079 - accuracy: 0.0000e+00\n",
      "\n",
      "Epoch 00018: loss improved from 1.00877 to 1.00793, saving model to unet_test_data\\model_test\n",
      "INFO:tensorflow:Assets written to: unet_test_data\\model_test\\assets\n",
      "Epoch 19/20\n",
      "1/1 - 102s - loss: 1.0071 - accuracy: 0.0000e+00\n",
      "\n",
      "Epoch 00019: loss improved from 1.00793 to 1.00707, saving model to unet_test_data\\model_test\n",
      "INFO:tensorflow:Assets written to: unet_test_data\\model_test\\assets\n",
      "Epoch 20/20\n",
      "1/1 - 93s - loss: 1.0063 - accuracy: 0.0000e+00\n",
      "\n",
      "Epoch 00020: loss improved from 1.00707 to 1.00629, saving model to unet_test_data\\model_test\n",
      "INFO:tensorflow:Assets written to: unet_test_data\\model_test\\assets\n"
     ]
    }
   ],
   "source": [
    "#validation frequency = how many epochs should it go in between training and tweaking the model\n",
    "#epochs = number of times it runs over your dataset\n",
    "#batch_size = number of items in the training dataset ||| steps_per_epoch if using a generator\n",
    "#validation_steps = same thing as steps per epoch but during validation\n",
    "#callbacks = extra setting for the model - like model checkpoint, early stopping\n",
    "    #tf.keras.callbacks.ModelCheckpoint - probably want to use this - saves the model periodically - usually moniter the loss function, save_best_only = True\n",
    "    #early stopping = EarlyStopping('loss',patience=500,verbose=2) - will stop the model when it starts to perform badly on the validation data\n",
    "#workers = how many threads=CPU to use to train batches in parallel (=2)? based on hardware\n",
    "#use_multiprocessing=True\n",
    "#max_queue_size=100000 - the queue holds the batches if the GPU gets backed up\n",
    "    \n",
    "#trained_model = model.fit(train_dataset.repeat(),\n",
    "#                    validation_data=validation_dataset.repeat())\n",
    "\n",
    "#'''\n",
    "#X_training = np.swapaxes(X_training,0,2)\n",
    "#Y_training = np.swapaxes(Y_training,0,2)\n",
    "\n",
    "early_stopping = EarlyStopping('loss',patience=500,verbose=2)\n",
    "checkpoint = tf.keras.callbacks.ModelCheckpoint('unet_test_data/model_test', monitor='loss', verbose=1, save_best_only=True, save_weights_only=False, save_freq='epoch')\n",
    "\n",
    "trained_model = model.fit(X_total,\n",
    "                          Y_total,\n",
    "                          validation_freq=5,\n",
    "                          epochs=20,\n",
    "                          batch_size=23, #steps_per_epoch=23,\n",
    "                          validation_steps=5,\n",
    "                          callbacks=[early_stopping, checkpoint],\n",
    "                          verbose=2,\n",
    "                          workers=2,\n",
    "                          use_multiprocessing=True,\n",
    "                          max_queue_size=100)    #'''\n",
    "#model.fit?"
   ]
  },
  {
   "cell_type": "code",
   "execution_count": 15,
   "id": "ef6080c8-6b8f-4db2-b04b-b6b48d11f8a9",
   "metadata": {},
   "outputs": [
    {
     "data": {
      "text/plain": [
       "<keras.callbacks.History at 0x1eb0925dd30>"
      ]
     },
     "execution_count": 15,
     "metadata": {},
     "output_type": "execute_result"
    }
   ],
   "source": [
    "trained_model"
   ]
  },
  {
   "cell_type": "code",
   "execution_count": 11,
   "id": "9e517cc1-5575-4b4a-8bb6-aa8cdc9126fb",
   "metadata": {},
   "outputs": [
    {
     "data": {
      "image/png": "[encoded data removed]",
      "text/plain": [
       "<Figure size 576x576 with 2 Axes>"
      ]
     },
     "metadata": {
      "needs_background": "light"
     },
     "output_type": "display_data"
    }
   ],
   "source": [
    "acc = trained_model.history['accuracy']\n",
    "#val_acc = trained_model.history['val_accuracy']\n",
    "\n",
    "loss = trained_model.history['loss']\n",
    "#val_loss = trained_model.history['val_loss']\n",
    "\n",
    "epochs_range = range(20)\n",
    "\n",
    "plt.figure(figsize=(8, 8))\n",
    "plt.subplot(1, 2, 1)\n",
    "plt.plot(epochs_range, acc, label='Training Accuracy')\n",
    "#plt.plot(epochs_range, val_acc, label='Validation Accuracy')\n",
    "plt.legend(loc='lower right')\n",
    "plt.title('Training and Validation Accuracy')\n",
    "\n",
    "plt.subplot(1, 2, 2)\n",
    "plt.plot(epochs_range, loss, label='Training Loss')\n",
    "#plt.plot(epochs_range, val_loss, label='Validation Loss')\n",
    "plt.legend(loc='upper right')\n",
    "plt.title('Training and Validation Loss')\n",
    "plt.show()"
   ]
  },
  {
   "cell_type": "code",
   "execution_count": null,
   "id": "2da57352-da49-44e6-8df5-8cd6d5f3039f",
   "metadata": {},
   "outputs": [],
   "source": []
  }
 ],
 "metadata": {
  "kernelspec": {
   "display_name": "tf-n",
   "language": "python",
   "name": "tf-n"
  },
  "language_info": {
   "codemirror_mode": {
    "name": "ipython",
    "version": 3
   },
   "file_extension": ".py",
   "mimetype": "text/x-python",
   "name": "python",
   "nbconvert_exporter": "python",
   "pygments_lexer": "ipython3",
   "version": "3.9.5"
  }
 },
 "nbformat": 4,
 "nbformat_minor": 5
}
