{
 "cells": [
  {
   "cell_type": "code",
   "execution_count": 1,
   "id": "14b15366-1541-4384-88c5-e201b282d3d2",
   "metadata": {},
   "outputs": [
    {
     "name": "stdout",
     "output_type": "stream",
     "text": [
      "Warning: ecCodes 2.21.0 or higher is recommended. You are running version 2.18.0\n"
     ]
    }
   ],
   "source": [
    "import xarray as xr\n",
    "import matplotlib.pyplot as plt\n",
    "import numpy as np\n",
    "import csv\n",
    "import pandas as pd\n",
    "from sklearn.metrics import roc_auc_score, roc_curve\n",
    "from sklearn.calibration import calibration_curve"
   ]
  },
  {
   "cell_type": "markdown",
   "id": "ffee23d2-d1c5-4d1f-a7ab-6a4718f0aef8",
   "metadata": {},
   "source": [
    "Load in the data we want (with only the first 13 columns of the predictions metadata because I wrote them to the file twice (oops))"
   ]
  },
  {
   "cell_type": "code",
   "execution_count": 2,
   "id": "4b39195a-a0c3-4a14-8b81-661cb126b5c5",
   "metadata": {},
   "outputs": [],
   "source": [
    "predictions = xr.open_dataset(\"../ml_model_data/classification_model/predictions.nc\")"
   ]
  },
  {
   "cell_type": "markdown",
   "id": "7113933c-11c0-46be-8236-d8cf7c8587f8",
   "metadata": {},
   "source": [
    "Pull out the variable fields we want"
   ]
  },
  {
   "cell_type": "code",
   "execution_count": 3,
   "id": "9d73ce2a-47aa-40fb-bf6b-316967e9f65e",
   "metadata": {},
   "outputs": [],
   "source": [
    "true_no_hail = predictions.true_no_hail.values\n",
    "true_hail = predictions.true_hail.values\n",
    "true_sev_hail = predictions.true_sev_hail.values\n",
    "true_sig_sev_hail = predictions.true_sig_sev_hail.values\n",
    "#mesh = predictions.drop(('predicted_no_hail', 'predicted_hail', 'predicted_sev_hail', 'predicted_sig_sev_hail'))\n",
    "\n",
    "predicted_no_hail = predictions.predicted_no_hail.values\n",
    "predicted_hail = predictions.predicted_hail.values\n",
    "predicted_sev_hail = predictions.predicted_sev_hail.values\n",
    "predicted_sig_sev_hail = predictions.predicted_sig_sev_hail.values\n",
    "#output = predictions.drop(('true_no_hail', 'true_hail', 'true_sev_hail', 'true_sig_sev_hail'))"
   ]
  },
  {
   "cell_type": "code",
   "execution_count": 4,
   "id": "c28e1ca5-84f2-4d2e-a242-fe1c623261cf",
   "metadata": {
    "tags": []
   },
   "outputs": [
    {
     "data": {
      "text/plain": [
       "(15601664,)"
      ]
     },
     "execution_count": 4,
     "metadata": {},
     "output_type": "execute_result"
    }
   ],
   "source": [
    "# predict probabilities\n",
    "nh_probs = predicted_no_hail[:,:,:].ravel()\n",
    "h_probs = predicted_hail[:,:,:].ravel()\n",
    "sh_probs = predicted_sev_hail[:,:,:].ravel()\n",
    "ssh_probs = predicted_sig_sev_hail[:,:,:].ravel()\n",
    "ssh_probs.shape"
   ]
  },
  {
   "cell_type": "markdown",
   "id": "f1eddc7e-c7a1-42fe-b5e5-5a8d64ed3fe6",
   "metadata": {},
   "source": [
    "## Skill Diagrams"
   ]
  },
  {
   "cell_type": "markdown",
   "id": "101f01ec-33a2-42c2-95a0-ec1fc838ecdd",
   "metadata": {},
   "source": [
    "Make each array of truth values into a 1D array instead of 3D"
   ]
  },
  {
   "cell_type": "code",
   "execution_count": null,
   "id": "7bfb9404-2dd9-49c6-8791-87955ed89d3e",
   "metadata": {},
   "outputs": [],
   "source": [
    "nh_true = true_no_hail.ravel()\n",
    "h_true = true_hail.ravel()\n",
    "sh_true = true_sev_hail.ravel()\n",
    "ssh_true = true_sig_sev_hail.ravel()\n",
    "ssh_true.shape"
   ]
  },
  {
   "cell_type": "markdown",
   "id": "52f31513-db97-4726-a180-a1cdc8ced9d6",
   "metadata": {},
   "source": [
    "Make a no-skill array of the same size as the other lists as a baseline comparison for the roc curve"
   ]
  },
  {
   "cell_type": "code",
   "execution_count": null,
   "id": "9f0c24ce-b752-4ca0-9248-97d09016cfb3",
   "metadata": {},
   "outputs": [],
   "source": [
    "# generate a no skill prediction (majority class)\n",
    "ns_probs = [0 for _ in range(len(h_true))]"
   ]
  },
  {
   "cell_type": "markdown",
   "id": "ab0723a3-754b-40d8-8cbc-82ec93dc000d",
   "metadata": {},
   "source": [
    "Format the data for the auc/roc curve plotting functions. It wants all prediction data in one array and all the truth data in one array and the no-skill data in one array. Add an extra dimension which holds the different categories of hail"
   ]
  },
  {
   "cell_type": "code",
   "execution_count": 13,
   "id": "828cbfff-1c32-42e4-988a-e5a0535f8c35",
   "metadata": {},
   "outputs": [],
   "source": [
    "truth = np.stack((nh_true,h_true,sh_true,ssh_true))\n",
    "predict = np.stack((nh_probs,h_probs,sh_probs,ssh_probs))\n",
    "noskill = np.stack((np.array(ns_probs),np.array(ns_probs),np.array(ns_probs),np.array(ns_probs)))"
   ]
  },
  {
   "cell_type": "markdown",
   "id": "9ae7fd84-c2ca-4166-9d91-122142846315",
   "metadata": {},
   "source": [
    "Calculate the AUC of the ROC curves for each category"
   ]
  },
  {
   "cell_type": "code",
   "execution_count": 14,
   "id": "71f4db9c-0f57-4ad4-b263-f66632885ecc",
   "metadata": {},
   "outputs": [
    {
     "name": "stdout",
     "output_type": "stream",
     "text": [
      "No Skill: ROC AUC=0.500\n",
      "Unet No Hail: ROC AUC=0.943\n",
      "Unet Hail: ROC AUC=0.943\n",
      "Unet Sev Hail: ROC AUC=0.969\n",
      "Unet Sig Sev Hail: ROC AUC=0.990\n"
     ]
    }
   ],
   "source": [
    "ns_auc = roc_auc_score(h_true, ns_probs)\n",
    "nh_auc = roc_auc_score(nh_true, nh_probs)\n",
    "h_auc = roc_auc_score(h_true, h_probs)\n",
    "sh_auc = roc_auc_score(sh_true, sh_probs)\n",
    "ssh_auc = roc_auc_score(ssh_true, ssh_probs)\n",
    "# summarize scores\n",
    "print('No Skill: ROC AUC=%.3f' % (ns_auc))\n",
    "print('Unet No Hail: ROC AUC=%.3f' % (nh_auc))\n",
    "print('Unet Hail: ROC AUC=%.3f' % (h_auc))\n",
    "print('Unet Sev Hail: ROC AUC=%.3f' % (sh_auc))\n",
    "print('Unet Sig Sev Hail: ROC AUC=%.3f' % (ssh_auc))"
   ]
  },
  {
   "cell_type": "markdown",
   "id": "2436270b-cfe6-44b5-9466-f9580998b9c8",
   "metadata": {},
   "source": [
    "Calculate the arrays for the roc curves. These functions calculate the false positive rate and the true positive rate for each category at each \"threshold\" value as determined by the function:"
   ]
  },
  {
   "cell_type": "code",
   "execution_count": 11,
   "id": "13366da8-7002-4708-9e9c-eabe6c7c8b0e",
   "metadata": {},
   "outputs": [
    {
     "name": "stdout",
     "output_type": "stream",
     "text": [
      "No Skill: Threshold=2.000\n",
      "Unet No Hail: Threshold=217330.000\n",
      "Unet Hail: Threshold=3891107.000\n",
      "Unet Sev Hail: Threshold=2115166.000\n",
      "Unet Sig Sev Hail: Threshold=2896754.000\n"
     ]
    }
   ],
   "source": [
    "# calculate roc curves\n",
    "ns_fpr, ns_tpr, ns_thresholds = roc_curve(h_true, ns_probs)\n",
    "nh_fpr, nh_tpr, nh_thresholds = roc_curve(nh_true, nh_probs)\n",
    "h_fpr, h_tpr, h_thresholds = roc_curve(h_true, h_probs)\n",
    "sh_fpr, sh_tpr, sh_thresholds = roc_curve(sh_true, sh_probs)\n",
    "ssh_fpr, ssh_tpr, ssh_thresholds = roc_curve(ssh_true, ssh_probs)"
   ]
  },
  {
   "cell_type": "markdown",
   "id": "08d1c0bc-bbc7-4ff5-8572-f72e9db44e89",
   "metadata": {},
   "source": [
    "Plot the ROC Curve. We omit the no hail case because there are only 3 degrees of freedom in this prediction (the probabilities for all the categories add up to 1 at each pixel). So no extra data is in the no hail case, so we remove it for simplicity in the plot"
   ]
  },
  {
   "cell_type": "code",
   "execution_count": 16,
   "id": "b8f8083d-19f4-40dd-ad20-a6889ff34731",
   "metadata": {},
   "outputs": [
    {
     "data": {
      "image/png": "[encoded data removed]",
      "text/plain": [
       "<Figure size 432x288 with 1 Axes>"
      ]
     },
     "metadata": {
      "needs_background": "light"
     },
     "output_type": "display_data"
    }
   ],
   "source": [
    "#ssh_thresholdshe roc curve for the model\n",
    "plt.plot(ns_fpr, ns_tpr, linestyle='--', label='No Skill: AUC=%.3f' % (ns_auc))\n",
    "plt.plot(h_fpr, h_tpr, linestyle='-', label='Hail Unet: AUC=%.3f' % (h_auc))\n",
    "plt.plot(sh_fpr, sh_tpr, linestyle='-', label='Sev Hail Unet: AUC=%.3f' % (sh_auc))\n",
    "plt.plot(ssh_fpr, ssh_tpr, linestyle='-', label='Sig Sev Hail Unet: AUC=%.3f' % (ssh_auc))\n",
    "# axis labels\n",
    "plt.xlabel('False Positive Rate')\n",
    "plt.ylabel('True Positive Rate')\n",
    "plt.title('Receiver Operating Characteristic Curve')\n",
    "# show the legend\n",
    "plt.legend()\n",
    "plt.tight_layout()\n",
    "plt.savefig('ROC_Curve_final.png')\n",
    "# show the plot\n",
    "plt.show()"
   ]
  },
  {
   "cell_type": "markdown",
   "id": "0e4a9863-b451-462d-97da-000de70f0b6b",
   "metadata": {},
   "source": [
    "## Calibration curve"
   ]
  },
  {
   "cell_type": "markdown",
   "id": "931d8912-1aff-43aa-ae02-a91fee1cb9bf",
   "metadata": {},
   "source": [
    "Bin the predicted probabilites together in n_bins number of bins (in this case 100). Then calculate the observed frequency of all of the pixels in that bin. These are the variables plotted in the calibration curve"
   ]
  },
  {
   "cell_type": "code",
   "execution_count": 19,
   "id": "fe618b2e-fc25-4091-8b19-7bada6831cdb",
   "metadata": {},
   "outputs": [],
   "source": [
    "prob_true_nh, prob_pred_nh = calibration_curve(nh_true, nh_probs, n_bins=100)\n",
    "prob_true_h, prob_pred_h = calibration_curve(h_true, h_probs, n_bins=100)\n",
    "prob_true_sh, prob_pred_sh = calibration_curve(sh_true, sh_probs, n_bins=100)\n",
    "prob_true_ssh, prob_pred_ssh = calibration_curve(ssh_true, ssh_probs, n_bins=100)"
   ]
  },
  {
   "cell_type": "markdown",
   "id": "2ed90221-3e75-4c6f-a306-5dfb6c46e2f6",
   "metadata": {},
   "source": [
    "Plot the calibration curve/reliability diagram"
   ]
  },
  {
   "cell_type": "code",
   "execution_count": 22,
   "id": "a6c258da-5e3e-4a92-a6df-0618ce1fb22c",
   "metadata": {},
   "outputs": [
    {
     "data": {
      "image/png": "[encoded data removed]",
      "text/plain": [
       "<Figure size 432x288 with 1 Axes>"
      ]
     },
     "metadata": {
      "needs_background": "light"
     },
     "output_type": "display_data"
    }
   ],
   "source": [
    "plt.plot([0,1], linestyle='--')\n",
    "#plt.plot(prob_pred_nh, prob_true_nh, linestyle='-', label='No Hail')\n",
    "plt.plot(prob_pred_h,prob_true_h, linestyle='-', label='Hail')\n",
    "plt.plot(prob_pred_sh,prob_true_sh, linestyle='-', label='Severe Hail')\n",
    "plt.plot(prob_pred_ssh,prob_true_ssh, linestyle='-', label='Significant Severe Hail')\n",
    "plt.ylabel(\"Observed Frequency\")\n",
    "plt.xlabel(\"Predicted Probability\")\n",
    "plt.title(\"Reliability Diagram\")\n",
    "plt.legend(loc=\"best\")\n",
    "plt.tight_layout()\n",
    "plt.savefig('Reliability_Diagram_final.png')"
   ]
  },
  {
   "cell_type": "code",
   "execution_count": null,
   "id": "7f8a3587-688e-4fe8-812a-dcb7d3dc07f2",
   "metadata": {},
   "outputs": [],
   "source": []
  },
  {
   "cell_type": "code",
   "execution_count": null,
   "id": "2ac13042-1bb6-4a3d-8316-fc980384b5d7",
   "metadata": {},
   "outputs": [],
   "source": []
  },
  {
   "cell_type": "code",
   "execution_count": null,
   "id": "af1dbd71-1155-4e51-b923-6f9ea461e32c",
   "metadata": {},
   "outputs": [],
   "source": []
  }
 ],
 "metadata": {
  "kernelspec": {
   "display_name": "Python 3",
   "language": "python",
   "name": "python3"
  },
  "language_info": {
   "codemirror_mode": {
    "name": "ipython",
    "version": 3
   },
   "file_extension": ".py",
   "mimetype": "text/x-python",
   "name": "python",
   "nbconvert_exporter": "python",
   "pygments_lexer": "ipython3",
   "version": "3.8.10"
  }
 },
 "nbformat": 4,
 "nbformat_minor": 5
}
